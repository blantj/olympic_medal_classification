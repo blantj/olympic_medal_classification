{
 "cells": [
  {
   "cell_type": "markdown",
   "id": "25e5aae6",
   "metadata": {},
   "source": [
    "# Import Libraries"
   ]
  },
  {
   "cell_type": "code",
   "execution_count": 2,
   "id": "7b4a3d5a",
   "metadata": {},
   "outputs": [],
   "source": [
    "from google.cloud import bigquery\n",
    "from google.oauth2 import service_account\n",
    "import os\n",
    "import pandas as pd\n",
    "import requests\n",
    "from bs4 import BeautifulSoup"
   ]
  },
  {
   "cell_type": "markdown",
   "id": "57ee0975",
   "metadata": {},
   "source": [
    "# Obtain Economic Indicator Data"
   ]
  },
  {
   "cell_type": "markdown",
   "id": "927b9526",
   "metadata": {},
   "source": [
    "Create BigQuery client"
   ]
  },
  {
   "cell_type": "code",
   "execution_count": 2,
   "id": "b815b492",
   "metadata": {},
   "outputs": [],
   "source": [
    "os.environ[\"GOOGLE_APPLICATION_CREDENTIALS\"]= '../Other/Keys/olympics-330304-2824eb690cdc.json'\n",
    "client = bigquery.Client()"
   ]
  },
  {
   "cell_type": "markdown",
   "id": "40805b21",
   "metadata": {},
   "source": [
    "Get world bank wdi dataset"
   ]
  },
  {
   "cell_type": "code",
   "execution_count": 3,
   "id": "6dc9f60f",
   "metadata": {},
   "outputs": [],
   "source": [
    "wb_dataset_id = client.dataset(\"world_bank_wdi\", project=\"bigquery-public-data\")\n",
    "wb_dataset = client.get_dataset(wb_dataset_id)"
   ]
  },
  {
   "cell_type": "markdown",
   "id": "706b2c6c",
   "metadata": {},
   "source": [
    "View tables in world bank dataset"
   ]
  },
  {
   "cell_type": "code",
   "execution_count": 4,
   "id": "04bffe86",
   "metadata": {},
   "outputs": [
    {
     "name": "stdout",
     "output_type": "stream",
     "text": [
      "country_series_definitions\n",
      "country_summary\n",
      "footnotes\n",
      "indicators_data\n",
      "series_summary\n",
      "series_time\n"
     ]
    }
   ],
   "source": [
    "wb_tables = list(client.list_tables(wb_dataset))\n",
    "for table in wb_tables:\n",
    "    print(table.table_id)"
   ]
  },
  {
   "cell_type": "markdown",
   "id": "974b7515",
   "metadata": {},
   "source": [
    "View world bank indicators_data table"
   ]
  },
  {
   "cell_type": "code",
   "execution_count": 5,
   "id": "cc3a939a",
   "metadata": {},
   "outputs": [
    {
     "name": "stdout",
     "output_type": "stream",
     "text": [
      "SchemaField('country_name', 'STRING', 'NULLABLE', '', (), None)\n",
      "SchemaField('country_code', 'STRING', 'NULLABLE', '', (), None)\n",
      "SchemaField('indicator_name', 'STRING', 'NULLABLE', '', (), None)\n",
      "SchemaField('indicator_code', 'STRING', 'NULLABLE', '', (), None)\n",
      "SchemaField('value', 'FLOAT', 'NULLABLE', '', (), None)\n",
      "SchemaField('year', 'INTEGER', 'NULLABLE', '', (), None)\n"
     ]
    },
    {
     "name": "stderr",
     "output_type": "stream",
     "text": [
      "/Library/Frameworks/Python.framework/Versions/3.9/lib/python3.9/site-packages/google/cloud/bigquery/table.py:1860: UserWarning: Cannot use bqstorage_client if max_results is set, reverting to fetching data with the REST endpoint.\n",
      "  if not self._validate_bqstorage(bqstorage_client, create_bqstorage_client):\n"
     ]
    },
    {
     "data": {
      "text/html": [
       "<div>\n",
       "<style scoped>\n",
       "    .dataframe tbody tr th:only-of-type {\n",
       "        vertical-align: middle;\n",
       "    }\n",
       "\n",
       "    .dataframe tbody tr th {\n",
       "        vertical-align: top;\n",
       "    }\n",
       "\n",
       "    .dataframe thead th {\n",
       "        text-align: right;\n",
       "    }\n",
       "</style>\n",
       "<table border=\"1\" class=\"dataframe\">\n",
       "  <thead>\n",
       "    <tr style=\"text-align: right;\">\n",
       "      <th></th>\n",
       "      <th>country_name</th>\n",
       "      <th>country_code</th>\n",
       "      <th>indicator_name</th>\n",
       "      <th>indicator_code</th>\n",
       "      <th>value</th>\n",
       "      <th>year</th>\n",
       "    </tr>\n",
       "  </thead>\n",
       "  <tbody>\n",
       "    <tr>\n",
       "      <th>0</th>\n",
       "      <td>Kuwait</td>\n",
       "      <td>KWT</td>\n",
       "      <td>Commercial service imports (current US$)</td>\n",
       "      <td>TM.VAL.SERV.CD.WT</td>\n",
       "      <td>1.432269e+10</td>\n",
       "      <td>2010</td>\n",
       "    </tr>\n",
       "    <tr>\n",
       "      <th>1</th>\n",
       "      <td>Kuwait</td>\n",
       "      <td>KWT</td>\n",
       "      <td>Communications, computer, etc. (% of service e...</td>\n",
       "      <td>BX.GSR.CMCP.ZS</td>\n",
       "      <td>1.595238e+01</td>\n",
       "      <td>1994</td>\n",
       "    </tr>\n",
       "    <tr>\n",
       "      <th>2</th>\n",
       "      <td>Kuwait</td>\n",
       "      <td>KWT</td>\n",
       "      <td>Communications, computer, etc. (% of service i...</td>\n",
       "      <td>BM.GSR.CMCP.ZS</td>\n",
       "      <td>2.227488e+01</td>\n",
       "      <td>1983</td>\n",
       "    </tr>\n",
       "    <tr>\n",
       "      <th>3</th>\n",
       "      <td>Kuwait</td>\n",
       "      <td>KWT</td>\n",
       "      <td>Computer, communications and other services (%...</td>\n",
       "      <td>TX.VAL.OTHR.ZS.WT</td>\n",
       "      <td>-4.121148e-13</td>\n",
       "      <td>1994</td>\n",
       "    </tr>\n",
       "    <tr>\n",
       "      <th>4</th>\n",
       "      <td>Kuwait</td>\n",
       "      <td>KWT</td>\n",
       "      <td>Contraceptive prevalence, any methods (% of wo...</td>\n",
       "      <td>SP.DYN.CONU.ZS</td>\n",
       "      <td>3.460000e+01</td>\n",
       "      <td>1987</td>\n",
       "    </tr>\n",
       "  </tbody>\n",
       "</table>\n",
       "</div>"
      ],
      "text/plain": [
       "  country_name country_code  \\\n",
       "0       Kuwait          KWT   \n",
       "1       Kuwait          KWT   \n",
       "2       Kuwait          KWT   \n",
       "3       Kuwait          KWT   \n",
       "4       Kuwait          KWT   \n",
       "\n",
       "                                      indicator_name     indicator_code  \\\n",
       "0           Commercial service imports (current US$)  TM.VAL.SERV.CD.WT   \n",
       "1  Communications, computer, etc. (% of service e...     BX.GSR.CMCP.ZS   \n",
       "2  Communications, computer, etc. (% of service i...     BM.GSR.CMCP.ZS   \n",
       "3  Computer, communications and other services (%...  TX.VAL.OTHR.ZS.WT   \n",
       "4  Contraceptive prevalence, any methods (% of wo...     SP.DYN.CONU.ZS   \n",
       "\n",
       "          value  year  \n",
       "0  1.432269e+10  2010  \n",
       "1  1.595238e+01  1994  \n",
       "2  2.227488e+01  1983  \n",
       "3 -4.121148e-13  1994  \n",
       "4  3.460000e+01  1987  "
      ]
     },
     "execution_count": 5,
     "metadata": {},
     "output_type": "execute_result"
    }
   ],
   "source": [
    "indicator_table_id = wb_dataset_id.table(\"indicators_data\")\n",
    "indicator_table = client.get_table(indicator_table_id)\n",
    "[print(item) for item in indicator_table.schema]\n",
    "client.list_rows(indicator_table, max_results=5).to_dataframe()"
   ]
  },
  {
   "cell_type": "markdown",
   "id": "00e69059",
   "metadata": {},
   "source": [
    "Query country indicators from indicators_data table"
   ]
  },
  {
   "cell_type": "code",
   "execution_count": 6,
   "id": "815a699a",
   "metadata": {},
   "outputs": [
    {
     "data": {
      "text/html": [
       "<div>\n",
       "<style scoped>\n",
       "    .dataframe tbody tr th:only-of-type {\n",
       "        vertical-align: middle;\n",
       "    }\n",
       "\n",
       "    .dataframe tbody tr th {\n",
       "        vertical-align: top;\n",
       "    }\n",
       "\n",
       "    .dataframe thead th {\n",
       "        text-align: right;\n",
       "    }\n",
       "</style>\n",
       "<table border=\"1\" class=\"dataframe\">\n",
       "  <thead>\n",
       "    <tr style=\"text-align: right;\">\n",
       "      <th></th>\n",
       "      <th>country_name</th>\n",
       "      <th>country_code</th>\n",
       "      <th>indicator_name</th>\n",
       "      <th>indicator_code</th>\n",
       "      <th>value</th>\n",
       "      <th>year</th>\n",
       "    </tr>\n",
       "  </thead>\n",
       "  <tbody>\n",
       "    <tr>\n",
       "      <th>0</th>\n",
       "      <td>Kyrgyz Republic</td>\n",
       "      <td>KGZ</td>\n",
       "      <td>Gini index (World Bank estimate)</td>\n",
       "      <td>SI.POV.GINI</td>\n",
       "      <td>27.4</td>\n",
       "      <td>2012</td>\n",
       "    </tr>\n",
       "    <tr>\n",
       "      <th>1</th>\n",
       "      <td>Lithuania</td>\n",
       "      <td>LTU</td>\n",
       "      <td>Gini index (World Bank estimate)</td>\n",
       "      <td>SI.POV.GINI</td>\n",
       "      <td>37.4</td>\n",
       "      <td>2015</td>\n",
       "    </tr>\n",
       "    <tr>\n",
       "      <th>2</th>\n",
       "      <td>Luxembourg</td>\n",
       "      <td>LUX</td>\n",
       "      <td>Gini index (World Bank estimate)</td>\n",
       "      <td>SI.POV.GINI</td>\n",
       "      <td>31.7</td>\n",
       "      <td>2016</td>\n",
       "    </tr>\n",
       "    <tr>\n",
       "      <th>3</th>\n",
       "      <td>Madagascar</td>\n",
       "      <td>MDG</td>\n",
       "      <td>Gini index (World Bank estimate)</td>\n",
       "      <td>SI.POV.GINI</td>\n",
       "      <td>42.6</td>\n",
       "      <td>2012</td>\n",
       "    </tr>\n",
       "    <tr>\n",
       "      <th>4</th>\n",
       "      <td>Hungary</td>\n",
       "      <td>HUN</td>\n",
       "      <td>Gini index (World Bank estimate)</td>\n",
       "      <td>SI.POV.GINI</td>\n",
       "      <td>30.8</td>\n",
       "      <td>2012</td>\n",
       "    </tr>\n",
       "  </tbody>\n",
       "</table>\n",
       "</div>"
      ],
      "text/plain": [
       "      country_name country_code                    indicator_name  \\\n",
       "0  Kyrgyz Republic          KGZ  Gini index (World Bank estimate)   \n",
       "1        Lithuania          LTU  Gini index (World Bank estimate)   \n",
       "2       Luxembourg          LUX  Gini index (World Bank estimate)   \n",
       "3       Madagascar          MDG  Gini index (World Bank estimate)   \n",
       "4          Hungary          HUN  Gini index (World Bank estimate)   \n",
       "\n",
       "  indicator_code  value  year  \n",
       "0    SI.POV.GINI   27.4  2012  \n",
       "1    SI.POV.GINI   37.4  2015  \n",
       "2    SI.POV.GINI   31.7  2016  \n",
       "3    SI.POV.GINI   42.6  2012  \n",
       "4    SI.POV.GINI   30.8  2012  "
      ]
     },
     "execution_count": 6,
     "metadata": {},
     "output_type": "execute_result"
    }
   ],
   "source": [
    "indicators_query = \"\"\"\n",
    "        SELECT *\n",
    "        FROM `bigquery-public-data.world_bank_wdi.indicators_data`\n",
    "        WHERE indicator_name IN ('Population, total',\n",
    "                                 'GDP per capita, PPP (constant 2017 international $)',\n",
    "                                 'Urban population (% of total population)',\n",
    "                                 'Gini index (World Bank estimate)',\n",
    "                                 'Current health expenditure (% of GDP)',\n",
    "                                 'PM2.5 air pollution, mean annual exposure (micrograms per cubic meter)',\n",
    "                                 'International migrant stock (% of population)',\n",
    "                                 'Government expenditure on education, total (% of GDP)',\n",
    "                                 'Population ages 20-24, female (% of female population)',\n",
    "                                 'Population ages 20-24, male (% of male population)',\n",
    "                                 'Population ages 25-29, female (% of female population)',\n",
    "                                 'Population ages 25-29, male (% of male population)',\n",
    "                                 'Population ages 30-34, female (% of female population)',\n",
    "                                 'Population ages 30-34, male (% of male population)')\n",
    "        AND YEAR >= 2010\"\"\"\n",
    "indicators_query_job = client.query(indicators_query)\n",
    "indicators_df = indicators_query_job.to_dataframe()\n",
    "indicators_df.head()"
   ]
  },
  {
   "cell_type": "markdown",
   "id": "7ac53aad",
   "metadata": {},
   "source": [
    "Drop unneeded columns from indicators_df"
   ]
  },
  {
   "cell_type": "code",
   "execution_count": 8,
   "id": "bbd8dd55",
   "metadata": {},
   "outputs": [
    {
     "data": {
      "text/html": [
       "<div>\n",
       "<style scoped>\n",
       "    .dataframe tbody tr th:only-of-type {\n",
       "        vertical-align: middle;\n",
       "    }\n",
       "\n",
       "    .dataframe tbody tr th {\n",
       "        vertical-align: top;\n",
       "    }\n",
       "\n",
       "    .dataframe thead th {\n",
       "        text-align: right;\n",
       "    }\n",
       "</style>\n",
       "<table border=\"1\" class=\"dataframe\">\n",
       "  <thead>\n",
       "    <tr style=\"text-align: right;\">\n",
       "      <th></th>\n",
       "      <th>country_name</th>\n",
       "      <th>indicator_name</th>\n",
       "      <th>value</th>\n",
       "      <th>year</th>\n",
       "    </tr>\n",
       "  </thead>\n",
       "  <tbody>\n",
       "    <tr>\n",
       "      <th>0</th>\n",
       "      <td>Kyrgyz Republic</td>\n",
       "      <td>Gini index (World Bank estimate)</td>\n",
       "      <td>27.4</td>\n",
       "      <td>2012</td>\n",
       "    </tr>\n",
       "    <tr>\n",
       "      <th>1</th>\n",
       "      <td>Lithuania</td>\n",
       "      <td>Gini index (World Bank estimate)</td>\n",
       "      <td>37.4</td>\n",
       "      <td>2015</td>\n",
       "    </tr>\n",
       "    <tr>\n",
       "      <th>2</th>\n",
       "      <td>Luxembourg</td>\n",
       "      <td>Gini index (World Bank estimate)</td>\n",
       "      <td>31.7</td>\n",
       "      <td>2016</td>\n",
       "    </tr>\n",
       "    <tr>\n",
       "      <th>3</th>\n",
       "      <td>Madagascar</td>\n",
       "      <td>Gini index (World Bank estimate)</td>\n",
       "      <td>42.6</td>\n",
       "      <td>2012</td>\n",
       "    </tr>\n",
       "    <tr>\n",
       "      <th>4</th>\n",
       "      <td>Hungary</td>\n",
       "      <td>Gini index (World Bank estimate)</td>\n",
       "      <td>30.8</td>\n",
       "      <td>2012</td>\n",
       "    </tr>\n",
       "  </tbody>\n",
       "</table>\n",
       "</div>"
      ],
      "text/plain": [
       "      country_name                    indicator_name  value  year\n",
       "0  Kyrgyz Republic  Gini index (World Bank estimate)   27.4  2012\n",
       "1        Lithuania  Gini index (World Bank estimate)   37.4  2015\n",
       "2       Luxembourg  Gini index (World Bank estimate)   31.7  2016\n",
       "3       Madagascar  Gini index (World Bank estimate)   42.6  2012\n",
       "4          Hungary  Gini index (World Bank estimate)   30.8  2012"
      ]
     },
     "execution_count": 8,
     "metadata": {},
     "output_type": "execute_result"
    }
   ],
   "source": [
    "indicators_df.drop(columns=['country_code', 'indicator_code'], inplace=True)\n",
    "indicators_df.head()"
   ]
  },
  {
   "cell_type": "markdown",
   "id": "5aba14b0",
   "metadata": {},
   "source": [
    "Use max_year function to determine which year is most recently available datapoint for each feature by country"
   ]
  },
  {
   "cell_type": "code",
   "execution_count": 10,
   "id": "02d076b8",
   "metadata": {},
   "outputs": [
    {
     "data": {
      "text/html": [
       "<div>\n",
       "<style scoped>\n",
       "    .dataframe tbody tr th:only-of-type {\n",
       "        vertical-align: middle;\n",
       "    }\n",
       "\n",
       "    .dataframe tbody tr th {\n",
       "        vertical-align: top;\n",
       "    }\n",
       "\n",
       "    .dataframe thead th {\n",
       "        text-align: right;\n",
       "    }\n",
       "</style>\n",
       "<table border=\"1\" class=\"dataframe\">\n",
       "  <thead>\n",
       "    <tr style=\"text-align: right;\">\n",
       "      <th></th>\n",
       "      <th>country_name</th>\n",
       "      <th>indicator_name</th>\n",
       "      <th>value</th>\n",
       "      <th>year</th>\n",
       "      <th>max_year</th>\n",
       "    </tr>\n",
       "  </thead>\n",
       "  <tbody>\n",
       "    <tr>\n",
       "      <th>0</th>\n",
       "      <td>Kyrgyz Republic</td>\n",
       "      <td>Gini index (World Bank estimate)</td>\n",
       "      <td>27.4</td>\n",
       "      <td>2012</td>\n",
       "      <td>0</td>\n",
       "    </tr>\n",
       "    <tr>\n",
       "      <th>1</th>\n",
       "      <td>Lithuania</td>\n",
       "      <td>Gini index (World Bank estimate)</td>\n",
       "      <td>37.4</td>\n",
       "      <td>2015</td>\n",
       "      <td>0</td>\n",
       "    </tr>\n",
       "    <tr>\n",
       "      <th>2</th>\n",
       "      <td>Luxembourg</td>\n",
       "      <td>Gini index (World Bank estimate)</td>\n",
       "      <td>31.7</td>\n",
       "      <td>2016</td>\n",
       "      <td>0</td>\n",
       "    </tr>\n",
       "    <tr>\n",
       "      <th>3</th>\n",
       "      <td>Madagascar</td>\n",
       "      <td>Gini index (World Bank estimate)</td>\n",
       "      <td>42.6</td>\n",
       "      <td>2012</td>\n",
       "      <td>1</td>\n",
       "    </tr>\n",
       "    <tr>\n",
       "      <th>4</th>\n",
       "      <td>Hungary</td>\n",
       "      <td>Gini index (World Bank estimate)</td>\n",
       "      <td>30.8</td>\n",
       "      <td>2012</td>\n",
       "      <td>0</td>\n",
       "    </tr>\n",
       "  </tbody>\n",
       "</table>\n",
       "</div>"
      ],
      "text/plain": [
       "      country_name                    indicator_name  value  year  max_year\n",
       "0  Kyrgyz Republic  Gini index (World Bank estimate)   27.4  2012         0\n",
       "1        Lithuania  Gini index (World Bank estimate)   37.4  2015         0\n",
       "2       Luxembourg  Gini index (World Bank estimate)   31.7  2016         0\n",
       "3       Madagascar  Gini index (World Bank estimate)   42.6  2012         1\n",
       "4          Hungary  Gini index (World Bank estimate)   30.8  2012         0"
      ]
     },
     "execution_count": 10,
     "metadata": {},
     "output_type": "execute_result"
    }
   ],
   "source": [
    "def max_year(row):\n",
    "    max_year = max(indicators_df[(indicators_df['country_name'] == row['country_name']) & \n",
    "                                 (indicators_df['indicator_name'] == row['indicator_name'])]['year'].values)    \n",
    "    if row['year'] == max_year:  \n",
    "        return 1\n",
    "    else:\n",
    "        return 0\n",
    "indicators_df['max_year'] = indicators_df.apply(max_year, axis=1)\n",
    "indicators_df.head()"
   ]
  },
  {
   "cell_type": "markdown",
   "id": "fa6df461",
   "metadata": {},
   "source": [
    "Filter indicators_df to only include most recently available year's data for each feature"
   ]
  },
  {
   "cell_type": "code",
   "execution_count": 19,
   "id": "a958142d",
   "metadata": {},
   "outputs": [
    {
     "name": "stderr",
     "output_type": "stream",
     "text": [
      "/Library/Frameworks/Python.framework/Versions/3.9/lib/python3.9/site-packages/pandas/core/frame.py:4308: SettingWithCopyWarning: \n",
      "A value is trying to be set on a copy of a slice from a DataFrame\n",
      "\n",
      "See the caveats in the documentation: https://pandas.pydata.org/pandas-docs/stable/user_guide/indexing.html#returning-a-view-versus-a-copy\n",
      "  return super().drop(\n"
     ]
    },
    {
     "data": {
      "text/html": [
       "<div>\n",
       "<style scoped>\n",
       "    .dataframe tbody tr th:only-of-type {\n",
       "        vertical-align: middle;\n",
       "    }\n",
       "\n",
       "    .dataframe tbody tr th {\n",
       "        vertical-align: top;\n",
       "    }\n",
       "\n",
       "    .dataframe thead th {\n",
       "        text-align: right;\n",
       "    }\n",
       "</style>\n",
       "<table border=\"1\" class=\"dataframe\">\n",
       "  <thead>\n",
       "    <tr style=\"text-align: right;\">\n",
       "      <th></th>\n",
       "      <th>country_name</th>\n",
       "      <th>indicator_name</th>\n",
       "      <th>value</th>\n",
       "    </tr>\n",
       "  </thead>\n",
       "  <tbody>\n",
       "    <tr>\n",
       "      <th>0</th>\n",
       "      <td>Madagascar</td>\n",
       "      <td>Gini index (World Bank estimate)</td>\n",
       "      <td>42.6</td>\n",
       "    </tr>\n",
       "    <tr>\n",
       "      <th>1</th>\n",
       "      <td>Czech Republic</td>\n",
       "      <td>Gini index (World Bank estimate)</td>\n",
       "      <td>25.0</td>\n",
       "    </tr>\n",
       "    <tr>\n",
       "      <th>2</th>\n",
       "      <td>Lesotho</td>\n",
       "      <td>Gini index (World Bank estimate)</td>\n",
       "      <td>44.9</td>\n",
       "    </tr>\n",
       "    <tr>\n",
       "      <th>3</th>\n",
       "      <td>Finland</td>\n",
       "      <td>Gini index (World Bank estimate)</td>\n",
       "      <td>27.3</td>\n",
       "    </tr>\n",
       "    <tr>\n",
       "      <th>4</th>\n",
       "      <td>North Macedonia</td>\n",
       "      <td>Gini index (World Bank estimate)</td>\n",
       "      <td>33.0</td>\n",
       "    </tr>\n",
       "  </tbody>\n",
       "</table>\n",
       "</div>"
      ],
      "text/plain": [
       "      country_name                    indicator_name  value\n",
       "0       Madagascar  Gini index (World Bank estimate)   42.6\n",
       "1   Czech Republic  Gini index (World Bank estimate)   25.0\n",
       "2          Lesotho  Gini index (World Bank estimate)   44.9\n",
       "3          Finland  Gini index (World Bank estimate)   27.3\n",
       "4  North Macedonia  Gini index (World Bank estimate)   33.0"
      ]
     },
     "execution_count": 19,
     "metadata": {},
     "output_type": "execute_result"
    }
   ],
   "source": [
    "max_indicators_df = indicators_df[indicators_df['max_year']==1]\n",
    "max_indicators_df.drop(columns=['year', 'max_year'], inplace=True)\n",
    "max_indicators_df.reset_index(drop=True, inplace=True)\n",
    "max_indicators_df.head()"
   ]
  },
  {
   "cell_type": "markdown",
   "id": "8b1a0ef3",
   "metadata": {},
   "source": [
    "Pivot max_indicators_df to have country as row, indicator as column and value as datapoints"
   ]
  },
  {
   "cell_type": "code",
   "execution_count": 20,
   "id": "20bfbada",
   "metadata": {},
   "outputs": [
    {
     "data": {
      "text/html": [
       "<div>\n",
       "<style scoped>\n",
       "    .dataframe tbody tr th:only-of-type {\n",
       "        vertical-align: middle;\n",
       "    }\n",
       "\n",
       "    .dataframe tbody tr th {\n",
       "        vertical-align: top;\n",
       "    }\n",
       "\n",
       "    .dataframe thead th {\n",
       "        text-align: right;\n",
       "    }\n",
       "</style>\n",
       "<table border=\"1\" class=\"dataframe\">\n",
       "  <thead>\n",
       "    <tr style=\"text-align: right;\">\n",
       "      <th>indicator_name</th>\n",
       "      <th>country_name</th>\n",
       "      <th>Current health expenditure (% of GDP)</th>\n",
       "      <th>GDP per capita, PPP (constant 2017 international $)</th>\n",
       "      <th>Gini index (World Bank estimate)</th>\n",
       "      <th>Government expenditure on education, total (% of GDP)</th>\n",
       "      <th>International migrant stock (% of population)</th>\n",
       "      <th>PM2.5 air pollution, mean annual exposure (micrograms per cubic meter)</th>\n",
       "      <th>Population ages 20-24, female (% of female population)</th>\n",
       "      <th>Population ages 20-24, male (% of male population)</th>\n",
       "      <th>Population ages 25-29, female (% of female population)</th>\n",
       "      <th>Population ages 25-29, male (% of male population)</th>\n",
       "      <th>Population ages 30-34, female (% of female population)</th>\n",
       "      <th>Population ages 30-34, male (% of male population)</th>\n",
       "      <th>Population, total</th>\n",
       "      <th>Urban population (% of total population)</th>\n",
       "    </tr>\n",
       "  </thead>\n",
       "  <tbody>\n",
       "    <tr>\n",
       "      <th>0</th>\n",
       "      <td>Afghanistan</td>\n",
       "      <td>9.395727</td>\n",
       "      <td>1978.961579</td>\n",
       "      <td>NaN</td>\n",
       "      <td>3.21378</td>\n",
       "      <td>1.175547</td>\n",
       "      <td>56.910808</td>\n",
       "      <td>10.073862</td>\n",
       "      <td>10.098379</td>\n",
       "      <td>7.907260</td>\n",
       "      <td>8.063549</td>\n",
       "      <td>6.221683</td>\n",
       "      <td>6.503323</td>\n",
       "      <td>38928341.0</td>\n",
       "      <td>26.026000</td>\n",
       "    </tr>\n",
       "    <tr>\n",
       "      <th>1</th>\n",
       "      <td>Africa Eastern and Southern</td>\n",
       "      <td>5.925882</td>\n",
       "      <td>3371.814704</td>\n",
       "      <td>NaN</td>\n",
       "      <td>4.71930</td>\n",
       "      <td>1.734768</td>\n",
       "      <td>35.512988</td>\n",
       "      <td>9.218579</td>\n",
       "      <td>9.355607</td>\n",
       "      <td>7.906863</td>\n",
       "      <td>7.947182</td>\n",
       "      <td>6.763558</td>\n",
       "      <td>6.723442</td>\n",
       "      <td>677243299.0</td>\n",
       "      <td>36.783306</td>\n",
       "    </tr>\n",
       "    <tr>\n",
       "      <th>2</th>\n",
       "      <td>Africa Western and Central</td>\n",
       "      <td>4.004790</td>\n",
       "      <td>3995.039927</td>\n",
       "      <td>NaN</td>\n",
       "      <td>3.03285</td>\n",
       "      <td>2.079691</td>\n",
       "      <td>58.064482</td>\n",
       "      <td>8.940792</td>\n",
       "      <td>9.041989</td>\n",
       "      <td>7.522335</td>\n",
       "      <td>7.578698</td>\n",
       "      <td>6.425444</td>\n",
       "      <td>6.427822</td>\n",
       "      <td>458803476.0</td>\n",
       "      <td>47.848625</td>\n",
       "    </tr>\n",
       "    <tr>\n",
       "      <th>3</th>\n",
       "      <td>Albania</td>\n",
       "      <td>5.262714</td>\n",
       "      <td>13295.410885</td>\n",
       "      <td>33.2</td>\n",
       "      <td>3.94576</td>\n",
       "      <td>1.989036</td>\n",
       "      <td>18.200603</td>\n",
       "      <td>7.853874</td>\n",
       "      <td>8.013442</td>\n",
       "      <td>8.138641</td>\n",
       "      <td>8.828823</td>\n",
       "      <td>7.168070</td>\n",
       "      <td>8.372488</td>\n",
       "      <td>2837743.0</td>\n",
       "      <td>62.112000</td>\n",
       "    </tr>\n",
       "    <tr>\n",
       "      <th>4</th>\n",
       "      <td>Algeria</td>\n",
       "      <td>6.218427</td>\n",
       "      <td>10681.679297</td>\n",
       "      <td>27.6</td>\n",
       "      <td>6.10036</td>\n",
       "      <td>0.611072</td>\n",
       "      <td>38.884011</td>\n",
       "      <td>6.769581</td>\n",
       "      <td>6.910889</td>\n",
       "      <td>8.120237</td>\n",
       "      <td>8.179230</td>\n",
       "      <td>8.527349</td>\n",
       "      <td>8.474931</td>\n",
       "      <td>43851043.0</td>\n",
       "      <td>73.733000</td>\n",
       "    </tr>\n",
       "  </tbody>\n",
       "</table>\n",
       "</div>"
      ],
      "text/plain": [
       "indicator_name                 country_name  \\\n",
       "0                               Afghanistan   \n",
       "1               Africa Eastern and Southern   \n",
       "2                Africa Western and Central   \n",
       "3                                   Albania   \n",
       "4                                   Algeria   \n",
       "\n",
       "indicator_name  Current health expenditure (% of GDP)  \\\n",
       "0                                            9.395727   \n",
       "1                                            5.925882   \n",
       "2                                            4.004790   \n",
       "3                                            5.262714   \n",
       "4                                            6.218427   \n",
       "\n",
       "indicator_name  GDP per capita, PPP (constant 2017 international $)  \\\n",
       "0                                                     1978.961579     \n",
       "1                                                     3371.814704     \n",
       "2                                                     3995.039927     \n",
       "3                                                    13295.410885     \n",
       "4                                                    10681.679297     \n",
       "\n",
       "indicator_name  Gini index (World Bank estimate)  \\\n",
       "0                                            NaN   \n",
       "1                                            NaN   \n",
       "2                                            NaN   \n",
       "3                                           33.2   \n",
       "4                                           27.6   \n",
       "\n",
       "indicator_name  Government expenditure on education, total (% of GDP)  \\\n",
       "0                                                         3.21378       \n",
       "1                                                         4.71930       \n",
       "2                                                         3.03285       \n",
       "3                                                         3.94576       \n",
       "4                                                         6.10036       \n",
       "\n",
       "indicator_name  International migrant stock (% of population)  \\\n",
       "0                                                    1.175547   \n",
       "1                                                    1.734768   \n",
       "2                                                    2.079691   \n",
       "3                                                    1.989036   \n",
       "4                                                    0.611072   \n",
       "\n",
       "indicator_name  PM2.5 air pollution, mean annual exposure (micrograms per cubic meter)  \\\n",
       "0                                                       56.910808                        \n",
       "1                                                       35.512988                        \n",
       "2                                                       58.064482                        \n",
       "3                                                       18.200603                        \n",
       "4                                                       38.884011                        \n",
       "\n",
       "indicator_name  Population ages 20-24, female (% of female population)  \\\n",
       "0                                                       10.073862        \n",
       "1                                                        9.218579        \n",
       "2                                                        8.940792        \n",
       "3                                                        7.853874        \n",
       "4                                                        6.769581        \n",
       "\n",
       "indicator_name  Population ages 20-24, male (% of male population)  \\\n",
       "0                                                       10.098379    \n",
       "1                                                        9.355607    \n",
       "2                                                        9.041989    \n",
       "3                                                        8.013442    \n",
       "4                                                        6.910889    \n",
       "\n",
       "indicator_name  Population ages 25-29, female (% of female population)  \\\n",
       "0                                                        7.907260        \n",
       "1                                                        7.906863        \n",
       "2                                                        7.522335        \n",
       "3                                                        8.138641        \n",
       "4                                                        8.120237        \n",
       "\n",
       "indicator_name  Population ages 25-29, male (% of male population)  \\\n",
       "0                                                        8.063549    \n",
       "1                                                        7.947182    \n",
       "2                                                        7.578698    \n",
       "3                                                        8.828823    \n",
       "4                                                        8.179230    \n",
       "\n",
       "indicator_name  Population ages 30-34, female (% of female population)  \\\n",
       "0                                                        6.221683        \n",
       "1                                                        6.763558        \n",
       "2                                                        6.425444        \n",
       "3                                                        7.168070        \n",
       "4                                                        8.527349        \n",
       "\n",
       "indicator_name  Population ages 30-34, male (% of male population)  \\\n",
       "0                                                        6.503323    \n",
       "1                                                        6.723442    \n",
       "2                                                        6.427822    \n",
       "3                                                        8.372488    \n",
       "4                                                        8.474931    \n",
       "\n",
       "indicator_name  Population, total  Urban population (% of total population)  \n",
       "0                      38928341.0                                 26.026000  \n",
       "1                     677243299.0                                 36.783306  \n",
       "2                     458803476.0                                 47.848625  \n",
       "3                       2837743.0                                 62.112000  \n",
       "4                      43851043.0                                 73.733000  "
      ]
     },
     "execution_count": 20,
     "metadata": {},
     "output_type": "execute_result"
    }
   ],
   "source": [
    "max_indicators_df = max_indicators_df.pivot(index='country_name', columns='indicator_name', values='value')\n",
    "max_indicators_df.reset_index(inplace=True)\n",
    "max_indicators_df.head()"
   ]
  },
  {
   "cell_type": "markdown",
   "id": "3d6cbfb3",
   "metadata": {},
   "source": [
    "Save max_indicators_df to csv file"
   ]
  },
  {
   "cell_type": "code",
   "execution_count": 21,
   "id": "194ff9ab",
   "metadata": {},
   "outputs": [],
   "source": [
    "max_indicators_df.to_csv('Data/indicators.csv', index=False)"
   ]
  },
  {
   "cell_type": "markdown",
   "id": "9c7d819f",
   "metadata": {},
   "source": [
    "# Scrape Medal Count Data"
   ]
  },
  {
   "cell_type": "markdown",
   "id": "b97b3508",
   "metadata": {},
   "source": [
    "Get html with 2020 olympics national medal counts data"
   ]
  },
  {
   "cell_type": "code",
   "execution_count": 22,
   "id": "2ab2bbff",
   "metadata": {},
   "outputs": [],
   "source": [
    "response_headers = {'user-agent': 'Mozilla/5.0 (Macintosh; Intel Mac OS X 10_11_6) AppleWebKit/537.36 (KHTML, like Gecko) Chrome/53.0.2785.143 Safari/537.36'}\n",
    "url  = 'https://www.cbssports.com/olympics/news/tokyo-olympics-final-medal-table-usa-leads-in-in-gold-silver-bronze-and-overall-with-more-than-100-medals/'\n",
    "response = requests.get(url, headers = response_headers, timeout=5)"
   ]
  },
  {
   "cell_type": "markdown",
   "id": "b154cd4d",
   "metadata": {},
   "source": [
    "Scrape medal count data from html code and save to medal_df"
   ]
  },
  {
   "cell_type": "code",
   "execution_count": 23,
   "id": "bb52a5bf",
   "metadata": {},
   "outputs": [
    {
     "data": {
      "text/html": [
       "<div>\n",
       "<style scoped>\n",
       "    .dataframe tbody tr th:only-of-type {\n",
       "        vertical-align: middle;\n",
       "    }\n",
       "\n",
       "    .dataframe tbody tr th {\n",
       "        vertical-align: top;\n",
       "    }\n",
       "\n",
       "    .dataframe thead th {\n",
       "        text-align: right;\n",
       "    }\n",
       "</style>\n",
       "<table border=\"1\" class=\"dataframe\">\n",
       "  <thead>\n",
       "    <tr style=\"text-align: right;\">\n",
       "      <th></th>\n",
       "      <th>COUNTRY</th>\n",
       "      <th>GOLD</th>\n",
       "      <th>SILVER</th>\n",
       "      <th>BRONZE</th>\n",
       "      <th>TOTALS</th>\n",
       "    </tr>\n",
       "  </thead>\n",
       "  <tbody>\n",
       "    <tr>\n",
       "      <th>1</th>\n",
       "      <td>United States</td>\n",
       "      <td>39</td>\n",
       "      <td>41</td>\n",
       "      <td>33</td>\n",
       "      <td>113</td>\n",
       "    </tr>\n",
       "    <tr>\n",
       "      <th>2</th>\n",
       "      <td>China</td>\n",
       "      <td>38</td>\n",
       "      <td>32</td>\n",
       "      <td>18</td>\n",
       "      <td>88</td>\n",
       "    </tr>\n",
       "    <tr>\n",
       "      <th>3</th>\n",
       "      <td>Japan</td>\n",
       "      <td>27</td>\n",
       "      <td>14</td>\n",
       "      <td>17</td>\n",
       "      <td>58</td>\n",
       "    </tr>\n",
       "    <tr>\n",
       "      <th>4</th>\n",
       "      <td>Great Britain</td>\n",
       "      <td>22</td>\n",
       "      <td>21</td>\n",
       "      <td>22</td>\n",
       "      <td>65</td>\n",
       "    </tr>\n",
       "    <tr>\n",
       "      <th>5</th>\n",
       "      <td>Russian Olympic Committee</td>\n",
       "      <td>20</td>\n",
       "      <td>28</td>\n",
       "      <td>23</td>\n",
       "      <td>71</td>\n",
       "    </tr>\n",
       "  </tbody>\n",
       "</table>\n",
       "</div>"
      ],
      "text/plain": [
       "0                    COUNTRY GOLD SILVER BRONZE TOTALS\n",
       "1              United States   39     41     33    113\n",
       "2                      China   38     32     18     88\n",
       "3                      Japan   27     14     17     58\n",
       "4              Great Britain   22     21     22     65\n",
       "5  Russian Olympic Committee   20     28     23     71"
      ]
     },
     "execution_count": 23,
     "metadata": {},
     "output_type": "execute_result"
    }
   ],
   "source": [
    "soup = BeautifulSoup(response.content, 'html.parser')\n",
    "table = soup.find('table', {'class': 'TableBase NOTSELECTED OlympicsTable'})\n",
    "rows = table.find_all('tr')\n",
    "data = []\n",
    "for row in rows:\n",
    "    row_data = []\n",
    "    for datapoint in row.find_all('p'):\n",
    "        row_data.append(datapoint.text.replace('\\t', '').strip())\n",
    "    data.append(row_data)\n",
    "medal_df = pd.DataFrame(data)\n",
    "medal_df.columns = medal_df.loc[0]\n",
    "medal_df.drop(axis=0, index=0, inplace=True)\n",
    "medal_df.head()"
   ]
  },
  {
   "cell_type": "markdown",
   "id": "f294922d",
   "metadata": {},
   "source": [
    "Save medal_df to csv file"
   ]
  },
  {
   "cell_type": "code",
   "execution_count": 24,
   "id": "52effa3d",
   "metadata": {},
   "outputs": [],
   "source": [
    "medal_df.to_csv('Data/medals.csv', index=False)"
   ]
  },
  {
   "cell_type": "markdown",
   "id": "39af9cab",
   "metadata": {},
   "source": [
    "# Scrape list of olympic nations"
   ]
  },
  {
   "cell_type": "markdown",
   "id": "f72dec19",
   "metadata": {},
   "source": [
    "Get url with list of olympic nations using requests.get"
   ]
  },
  {
   "cell_type": "code",
   "execution_count": 4,
   "id": "e3e9ec65",
   "metadata": {},
   "outputs": [],
   "source": [
    "nations_response_headers = {'user-agent': 'Mozilla/5.0 (Macintosh; Intel Mac OS X 10_11_6) AppleWebKit/537.36 (KHTML, like Gecko) Chrome/53.0.2785.143 Safari/537.36'}\n",
    "nations_url  = 'https://olympics.com/ioc/national-olympic-committees'\n",
    "nations_response = requests.get(nations_url, headers = nations_response_headers, timeout=5)"
   ]
  },
  {
   "cell_type": "markdown",
   "id": "cd71bed3",
   "metadata": {},
   "source": [
    "Scrape list of olympic nations from html and save to olympic_countries_df"
   ]
  },
  {
   "cell_type": "code",
   "execution_count": 35,
   "id": "294694b9",
   "metadata": {},
   "outputs": [
    {
     "name": "stdout",
     "output_type": "stream",
     "text": [
      "(206, 1)\n"
     ]
    },
    {
     "data": {
      "text/html": [
       "<div>\n",
       "<style scoped>\n",
       "    .dataframe tbody tr th:only-of-type {\n",
       "        vertical-align: middle;\n",
       "    }\n",
       "\n",
       "    .dataframe tbody tr th {\n",
       "        vertical-align: top;\n",
       "    }\n",
       "\n",
       "    .dataframe thead th {\n",
       "        text-align: right;\n",
       "    }\n",
       "</style>\n",
       "<table border=\"1\" class=\"dataframe\">\n",
       "  <thead>\n",
       "    <tr style=\"text-align: right;\">\n",
       "      <th></th>\n",
       "      <th>Country</th>\n",
       "    </tr>\n",
       "  </thead>\n",
       "  <tbody>\n",
       "    <tr>\n",
       "      <th>0</th>\n",
       "      <td>Afghanistan</td>\n",
       "    </tr>\n",
       "    <tr>\n",
       "      <th>1</th>\n",
       "      <td>Albania</td>\n",
       "    </tr>\n",
       "    <tr>\n",
       "      <th>2</th>\n",
       "      <td>Algeria</td>\n",
       "    </tr>\n",
       "    <tr>\n",
       "      <th>3</th>\n",
       "      <td>American Samoa</td>\n",
       "    </tr>\n",
       "    <tr>\n",
       "      <th>4</th>\n",
       "      <td>Andorra</td>\n",
       "    </tr>\n",
       "  </tbody>\n",
       "</table>\n",
       "</div>"
      ],
      "text/plain": [
       "          Country\n",
       "0     Afghanistan\n",
       "1         Albania\n",
       "2         Algeria\n",
       "3  American Samoa\n",
       "4         Andorra"
      ]
     },
     "execution_count": 35,
     "metadata": {},
     "output_type": "execute_result"
    }
   ],
   "source": [
    "nations_soup = BeautifulSoup(nations_response.content, 'html.parser')\n",
    "nations_table = nations_soup.find('div', {'class': 'row row-cols-2 row-cols-md-3 row-cols-lg-4'})\n",
    "countries = nations_table.find_all('a')\n",
    "countries_list = []\n",
    "for country in countries:\n",
    "    countries_list.append(country.find('h6').text)\n",
    "olympic_countries_df = pd.DataFrame(countries_list, columns=['Country'])\n",
    "print(olympic_countries_df.shape)\n",
    "olympic_countries_df.head()"
   ]
  },
  {
   "cell_type": "markdown",
   "id": "9a0fa68d",
   "metadata": {},
   "source": [
    "Save olympic_countries_df to csv file"
   ]
  },
  {
   "cell_type": "code",
   "execution_count": 36,
   "id": "7c695ba4",
   "metadata": {},
   "outputs": [],
   "source": [
    "olympic_countries_df.to_csv('Data/olympic_countries.csv', index=False)"
   ]
  },
  {
   "cell_type": "code",
   "execution_count": null,
   "id": "bcf52470",
   "metadata": {},
   "outputs": [],
   "source": []
  }
 ],
 "metadata": {
  "kernelspec": {
   "display_name": "Python 3",
   "language": "python",
   "name": "python3"
  },
  "language_info": {
   "codemirror_mode": {
    "name": "ipython",
    "version": 3
   },
   "file_extension": ".py",
   "mimetype": "text/x-python",
   "name": "python",
   "nbconvert_exporter": "python",
   "pygments_lexer": "ipython3",
   "version": "3.9.5"
  }
 },
 "nbformat": 4,
 "nbformat_minor": 5
}
