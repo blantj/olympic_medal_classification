{
 "cells": [
  {
   "cell_type": "markdown",
   "id": "25e5aae6",
   "metadata": {},
   "source": [
    "# Import Libraries"
   ]
  },
  {
   "cell_type": "code",
   "execution_count": 4,
   "id": "7b4a3d5a",
   "metadata": {},
   "outputs": [],
   "source": [
    "from google.cloud import bigquery\n",
    "from google.oauth2 import service_account\n",
    "import os\n",
    "import pandas as pd\n",
    "import requests\n",
    "from bs4 import BeautifulSoup"
   ]
  },
  {
   "cell_type": "markdown",
   "id": "57ee0975",
   "metadata": {},
   "source": [
    "# Obtain Data"
   ]
  },
  {
   "cell_type": "markdown",
   "id": "927b9526",
   "metadata": {},
   "source": [
    "Create BigQuery client"
   ]
  },
  {
   "cell_type": "code",
   "execution_count": 5,
   "id": "b815b492",
   "metadata": {},
   "outputs": [],
   "source": [
    "os.environ[\"GOOGLE_APPLICATION_CREDENTIALS\"]= '../Other/Keys/olympics-330304-2824eb690cdc.json'\n",
    "client = bigquery.Client()"
   ]
  },
  {
   "cell_type": "markdown",
   "id": "40805b21",
   "metadata": {},
   "source": [
    "Get world bank wdi dataset"
   ]
  },
  {
   "cell_type": "code",
   "execution_count": 6,
   "id": "6dc9f60f",
   "metadata": {},
   "outputs": [],
   "source": [
    "wb_dataset_id = client.dataset(\"world_bank_wdi\", project=\"bigquery-public-data\")\n",
    "wb_dataset = client.get_dataset(wb_dataset_id)"
   ]
  },
  {
   "cell_type": "markdown",
   "id": "706b2c6c",
   "metadata": {},
   "source": [
    "View tables in world bank dataset"
   ]
  },
  {
   "cell_type": "code",
   "execution_count": 7,
   "id": "04bffe86",
   "metadata": {},
   "outputs": [
    {
     "name": "stdout",
     "output_type": "stream",
     "text": [
      "country_series_definitions\n",
      "country_summary\n",
      "footnotes\n",
      "indicators_data\n",
      "series_summary\n",
      "series_time\n"
     ]
    }
   ],
   "source": [
    "wb_tables = list(client.list_tables(wb_dataset))\n",
    "for table in wb_tables:\n",
    "    print(table.table_id)"
   ]
  },
  {
   "cell_type": "markdown",
   "id": "974b7515",
   "metadata": {},
   "source": [
    "View world bank indicators_data table"
   ]
  },
  {
   "cell_type": "code",
   "execution_count": 8,
   "id": "cc3a939a",
   "metadata": {},
   "outputs": [
    {
     "name": "stdout",
     "output_type": "stream",
     "text": [
      "SchemaField('country_name', 'STRING', 'NULLABLE', '', (), None)\n",
      "SchemaField('country_code', 'STRING', 'NULLABLE', '', (), None)\n",
      "SchemaField('indicator_name', 'STRING', 'NULLABLE', '', (), None)\n",
      "SchemaField('indicator_code', 'STRING', 'NULLABLE', '', (), None)\n",
      "SchemaField('value', 'FLOAT', 'NULLABLE', '', (), None)\n",
      "SchemaField('year', 'INTEGER', 'NULLABLE', '', (), None)\n"
     ]
    },
    {
     "name": "stderr",
     "output_type": "stream",
     "text": [
      "/Library/Frameworks/Python.framework/Versions/3.9/lib/python3.9/site-packages/google/cloud/bigquery/table.py:1860: UserWarning: Cannot use bqstorage_client if max_results is set, reverting to fetching data with the REST endpoint.\n",
      "  if not self._validate_bqstorage(bqstorage_client, create_bqstorage_client):\n"
     ]
    },
    {
     "data": {
      "text/html": [
       "<div>\n",
       "<style scoped>\n",
       "    .dataframe tbody tr th:only-of-type {\n",
       "        vertical-align: middle;\n",
       "    }\n",
       "\n",
       "    .dataframe tbody tr th {\n",
       "        vertical-align: top;\n",
       "    }\n",
       "\n",
       "    .dataframe thead th {\n",
       "        text-align: right;\n",
       "    }\n",
       "</style>\n",
       "<table border=\"1\" class=\"dataframe\">\n",
       "  <thead>\n",
       "    <tr style=\"text-align: right;\">\n",
       "      <th></th>\n",
       "      <th>country_name</th>\n",
       "      <th>country_code</th>\n",
       "      <th>indicator_name</th>\n",
       "      <th>indicator_code</th>\n",
       "      <th>value</th>\n",
       "      <th>year</th>\n",
       "    </tr>\n",
       "  </thead>\n",
       "  <tbody>\n",
       "    <tr>\n",
       "      <th>0</th>\n",
       "      <td>Syrian Arab Republic</td>\n",
       "      <td>SYR</td>\n",
       "      <td>Merchandise exports to low- and middle-income ...</td>\n",
       "      <td>TX.VAL.MRCH.R5.ZS</td>\n",
       "      <td>1.221158e-03</td>\n",
       "      <td>1985</td>\n",
       "    </tr>\n",
       "    <tr>\n",
       "      <th>1</th>\n",
       "      <td>Syrian Arab Republic</td>\n",
       "      <td>SYR</td>\n",
       "      <td>Merchandise exports to low- and middle-income ...</td>\n",
       "      <td>TX.VAL.MRCH.OR.ZS</td>\n",
       "      <td>1.126115e+01</td>\n",
       "      <td>1973</td>\n",
       "    </tr>\n",
       "    <tr>\n",
       "      <th>2</th>\n",
       "      <td>Syrian Arab Republic</td>\n",
       "      <td>SYR</td>\n",
       "      <td>Merchandise exports to low- and middle-income ...</td>\n",
       "      <td>TX.VAL.MRCH.OR.ZS</td>\n",
       "      <td>1.265961e+01</td>\n",
       "      <td>2000</td>\n",
       "    </tr>\n",
       "    <tr>\n",
       "      <th>3</th>\n",
       "      <td>Syrian Arab Republic</td>\n",
       "      <td>SYR</td>\n",
       "      <td>Merchandise imports by the reporting economy (...</td>\n",
       "      <td>TM.VAL.MRCH.WL.CD</td>\n",
       "      <td>2.083597e+09</td>\n",
       "      <td>1989</td>\n",
       "    </tr>\n",
       "    <tr>\n",
       "      <th>4</th>\n",
       "      <td>Syrian Arab Republic</td>\n",
       "      <td>SYR</td>\n",
       "      <td>Merchandise imports by the reporting economy, ...</td>\n",
       "      <td>TM.VAL.MRCH.RS.ZS</td>\n",
       "      <td>1.114512e+01</td>\n",
       "      <td>1982</td>\n",
       "    </tr>\n",
       "  </tbody>\n",
       "</table>\n",
       "</div>"
      ],
      "text/plain": [
       "           country_name country_code  \\\n",
       "0  Syrian Arab Republic          SYR   \n",
       "1  Syrian Arab Republic          SYR   \n",
       "2  Syrian Arab Republic          SYR   \n",
       "3  Syrian Arab Republic          SYR   \n",
       "4  Syrian Arab Republic          SYR   \n",
       "\n",
       "                                      indicator_name     indicator_code  \\\n",
       "0  Merchandise exports to low- and middle-income ...  TX.VAL.MRCH.R5.ZS   \n",
       "1  Merchandise exports to low- and middle-income ...  TX.VAL.MRCH.OR.ZS   \n",
       "2  Merchandise exports to low- and middle-income ...  TX.VAL.MRCH.OR.ZS   \n",
       "3  Merchandise imports by the reporting economy (...  TM.VAL.MRCH.WL.CD   \n",
       "4  Merchandise imports by the reporting economy, ...  TM.VAL.MRCH.RS.ZS   \n",
       "\n",
       "          value  year  \n",
       "0  1.221158e-03  1985  \n",
       "1  1.126115e+01  1973  \n",
       "2  1.265961e+01  2000  \n",
       "3  2.083597e+09  1989  \n",
       "4  1.114512e+01  1982  "
      ]
     },
     "execution_count": 8,
     "metadata": {},
     "output_type": "execute_result"
    }
   ],
   "source": [
    "indicator_table_id = wb_dataset_id.table(\"indicators_data\")\n",
    "indicator_table = client.get_table(indicator_table_id)\n",
    "[print(item) for item in indicator_table.schema]\n",
    "client.list_rows(indicator_table, max_results=5).to_dataframe()"
   ]
  },
  {
   "cell_type": "markdown",
   "id": "00e69059",
   "metadata": {},
   "source": [
    "Query country indicators from indicators_data table"
   ]
  },
  {
   "cell_type": "code",
   "execution_count": 9,
   "id": "815a699a",
   "metadata": {},
   "outputs": [],
   "source": [
    "indicators_query = \"\"\"\n",
    "        SELECT *\n",
    "        FROM `bigquery-public-data.world_bank_wdi.indicators_data`\n",
    "        WHERE indicator_name IN ('Population, total',\n",
    "                                 'GDP per capita, PPP (constant 2017 international $)',\n",
    "                                 'Urban population (% of total population)',\n",
    "                                 'Gini index (World Bank estimate)',\n",
    "                                 'Current health expenditure (% of GDP)',\n",
    "                                 'PM2.5 air pollution, mean annual exposure (micrograms per cubic meter)',\n",
    "                                 'International migrant stock (% of population)',\n",
    "                                 'Government expenditure on education, total (% of GDP)',\n",
    "                                 'Population ages 20-24, female (% of female population)',\n",
    "                                 'Population ages 20-24, male (% of male population)',\n",
    "                                 'Population ages 25-29, female (% of female population)',\n",
    "                                 'Population ages 25-29, male (% of male population)',\n",
    "                                 'Population ages 30-34, female (% of female population)',\n",
    "                                 'Population ages 30-34, male (% of male population)')\n",
    "        AND YEAR >= 2010\"\"\"\n",
    "indicators_query_job = client.query(indicators_query)\n",
    "indicators_df = indicators_query_job.to_dataframe()\n",
    "indicators_df.to_csv('Data/indicators.csv', index=False)"
   ]
  },
  {
   "cell_type": "markdown",
   "id": "b97b3508",
   "metadata": {},
   "source": [
    "Scrape 2020 olympics national medal counts and create medals_df with medal count data"
   ]
  },
  {
   "cell_type": "code",
   "execution_count": 46,
   "id": "bb52a5bf",
   "metadata": {},
   "outputs": [
    {
     "data": {
      "text/html": [
       "<div>\n",
       "<style scoped>\n",
       "    .dataframe tbody tr th:only-of-type {\n",
       "        vertical-align: middle;\n",
       "    }\n",
       "\n",
       "    .dataframe tbody tr th {\n",
       "        vertical-align: top;\n",
       "    }\n",
       "\n",
       "    .dataframe thead th {\n",
       "        text-align: right;\n",
       "    }\n",
       "</style>\n",
       "<table border=\"1\" class=\"dataframe\">\n",
       "  <thead>\n",
       "    <tr style=\"text-align: right;\">\n",
       "      <th></th>\n",
       "      <th>COUNTRY</th>\n",
       "      <th>GOLD</th>\n",
       "      <th>SILVER</th>\n",
       "      <th>BRONZE</th>\n",
       "      <th>TOTALS</th>\n",
       "    </tr>\n",
       "  </thead>\n",
       "  <tbody>\n",
       "    <tr>\n",
       "      <th>1</th>\n",
       "      <td>United States</td>\n",
       "      <td>39</td>\n",
       "      <td>41</td>\n",
       "      <td>33</td>\n",
       "      <td>113</td>\n",
       "    </tr>\n",
       "    <tr>\n",
       "      <th>2</th>\n",
       "      <td>China</td>\n",
       "      <td>38</td>\n",
       "      <td>32</td>\n",
       "      <td>18</td>\n",
       "      <td>88</td>\n",
       "    </tr>\n",
       "    <tr>\n",
       "      <th>3</th>\n",
       "      <td>Japan</td>\n",
       "      <td>27</td>\n",
       "      <td>14</td>\n",
       "      <td>17</td>\n",
       "      <td>58</td>\n",
       "    </tr>\n",
       "    <tr>\n",
       "      <th>4</th>\n",
       "      <td>Great Britain</td>\n",
       "      <td>22</td>\n",
       "      <td>21</td>\n",
       "      <td>22</td>\n",
       "      <td>65</td>\n",
       "    </tr>\n",
       "    <tr>\n",
       "      <th>5</th>\n",
       "      <td>Russian Olympic Committee</td>\n",
       "      <td>20</td>\n",
       "      <td>28</td>\n",
       "      <td>23</td>\n",
       "      <td>71</td>\n",
       "    </tr>\n",
       "  </tbody>\n",
       "</table>\n",
       "</div>"
      ],
      "text/plain": [
       "0                    COUNTRY GOLD SILVER BRONZE TOTALS\n",
       "1              United States   39     41     33    113\n",
       "2                      China   38     32     18     88\n",
       "3                      Japan   27     14     17     58\n",
       "4              Great Britain   22     21     22     65\n",
       "5  Russian Olympic Committee   20     28     23     71"
      ]
     },
     "execution_count": 46,
     "metadata": {},
     "output_type": "execute_result"
    }
   ],
   "source": [
    "response_headers = {'user-agent': 'Mozilla/5.0 (Macintosh; Intel Mac OS X 10_11_6) AppleWebKit/537.36 (KHTML, like Gecko) Chrome/53.0.2785.143 Safari/537.36'}\n",
    "url  = 'https://www.cbssports.com/olympics/news/tokyo-olympics-final-medal-table-usa-leads-in-in-gold-silver-bronze-and-overall-with-more-than-100-medals/'\n",
    "response = requests.get(url, headers = response_headers, timeout=5)\n",
    "soup = BeautifulSoup(response.content, 'html.parser')\n",
    "table = soup.find('table', {'class': 'TableBase NOTSELECTED OlympicsTable'})\n",
    "rows = table.find_all('tr')\n",
    "data = []\n",
    "for row in rows:\n",
    "    row_data = []\n",
    "    for datapoint in row.find_all('p'):\n",
    "        row_data.append(datapoint.text.replace('\\t', '').strip())\n",
    "    data.append(row_data)\n",
    "medal_df = pd.DataFrame(data)\n",
    "medal_df.columns = medal_df.loc[0]\n",
    "medal_df.drop(axis=0, index=0, inplace=True)\n",
    "medal_df.head()"
   ]
  },
  {
   "cell_type": "markdown",
   "id": "f294922d",
   "metadata": {},
   "source": [
    "Save medal_df to csv file"
   ]
  },
  {
   "cell_type": "code",
   "execution_count": 47,
   "id": "52effa3d",
   "metadata": {},
   "outputs": [],
   "source": [
    "medal_df.to_csv('Data/medals.csv', index=False)"
   ]
  },
  {
   "cell_type": "code",
   "execution_count": null,
   "id": "8e0ddfef",
   "metadata": {},
   "outputs": [],
   "source": []
  }
 ],
 "metadata": {
  "kernelspec": {
   "display_name": "Python 3",
   "language": "python",
   "name": "python3"
  },
  "language_info": {
   "codemirror_mode": {
    "name": "ipython",
    "version": 3
   },
   "file_extension": ".py",
   "mimetype": "text/x-python",
   "name": "python",
   "nbconvert_exporter": "python",
   "pygments_lexer": "ipython3",
   "version": "3.9.5"
  }
 },
 "nbformat": 4,
 "nbformat_minor": 5
}
