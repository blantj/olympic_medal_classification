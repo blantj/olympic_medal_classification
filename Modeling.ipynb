{
 "cells": [
  {
   "cell_type": "markdown",
   "id": "22281e4b",
   "metadata": {},
   "source": [
    "# Import Libraries"
   ]
  },
  {
   "cell_type": "code",
   "execution_count": 111,
   "id": "b9f2fdd4",
   "metadata": {},
   "outputs": [],
   "source": [
    "import pandas as pd\n",
    "import numpy as np\n",
    "from sklearn.model_selection import train_test_split, cross_validate\n",
    "from sklearn.preprocessing import StandardScaler\n",
    "from sklearn.impute import KNNImputer\n",
    "import matplotlib.pyplot as plt\n",
    "import seaborn as sns\n",
    "from statsmodels.tools.tools import add_constant\n",
    "from statsmodels.stats.outliers_influence import variance_inflation_factor\n",
    "from sklearn.dummy import DummyClassifier\n",
    "from sklearn.metrics import f1_score, accuracy_score, confusion_matrix\n",
    "from sklearn.linear_model import LogisticRegression\n",
    "from sklearn.model_selection import GridSearchCV\n",
    "from sklearn.ensemble import AdaBoostClassifier, IsolationForest, RandomForestClassifier, VotingClassifier\n",
    "from sklearn.tree import DecisionTreeClassifier"
   ]
  },
  {
   "cell_type": "markdown",
   "id": "6e7e5554",
   "metadata": {},
   "source": [
    "# Obtain Data"
   ]
  },
  {
   "cell_type": "markdown",
   "id": "73473248",
   "metadata": {},
   "source": [
    "Read csv file with medal counts into Pandas"
   ]
  },
  {
   "cell_type": "code",
   "execution_count": 112,
   "id": "97fccdce",
   "metadata": {},
   "outputs": [
    {
     "name": "stdout",
     "output_type": "stream",
     "text": [
      "(93, 5)\n"
     ]
    },
    {
     "data": {
      "text/html": [
       "<div>\n",
       "<style scoped>\n",
       "    .dataframe tbody tr th:only-of-type {\n",
       "        vertical-align: middle;\n",
       "    }\n",
       "\n",
       "    .dataframe tbody tr th {\n",
       "        vertical-align: top;\n",
       "    }\n",
       "\n",
       "    .dataframe thead th {\n",
       "        text-align: right;\n",
       "    }\n",
       "</style>\n",
       "<table border=\"1\" class=\"dataframe\">\n",
       "  <thead>\n",
       "    <tr style=\"text-align: right;\">\n",
       "      <th></th>\n",
       "      <th>Olympic Country</th>\n",
       "      <th>Gold</th>\n",
       "      <th>Silver</th>\n",
       "      <th>Bronze</th>\n",
       "      <th>Totals</th>\n",
       "    </tr>\n",
       "  </thead>\n",
       "  <tbody>\n",
       "    <tr>\n",
       "      <th>0</th>\n",
       "      <td>United States</td>\n",
       "      <td>39</td>\n",
       "      <td>41</td>\n",
       "      <td>33</td>\n",
       "      <td>113</td>\n",
       "    </tr>\n",
       "    <tr>\n",
       "      <th>1</th>\n",
       "      <td>China</td>\n",
       "      <td>38</td>\n",
       "      <td>32</td>\n",
       "      <td>18</td>\n",
       "      <td>88</td>\n",
       "    </tr>\n",
       "    <tr>\n",
       "      <th>2</th>\n",
       "      <td>Japan</td>\n",
       "      <td>27</td>\n",
       "      <td>14</td>\n",
       "      <td>17</td>\n",
       "      <td>58</td>\n",
       "    </tr>\n",
       "    <tr>\n",
       "      <th>3</th>\n",
       "      <td>Great Britain</td>\n",
       "      <td>22</td>\n",
       "      <td>21</td>\n",
       "      <td>22</td>\n",
       "      <td>65</td>\n",
       "    </tr>\n",
       "    <tr>\n",
       "      <th>4</th>\n",
       "      <td>Russian Olympic Committee</td>\n",
       "      <td>20</td>\n",
       "      <td>28</td>\n",
       "      <td>23</td>\n",
       "      <td>71</td>\n",
       "    </tr>\n",
       "  </tbody>\n",
       "</table>\n",
       "</div>"
      ],
      "text/plain": [
       "             Olympic Country  Gold  Silver  Bronze  Totals\n",
       "0              United States    39      41      33     113\n",
       "1                      China    38      32      18      88\n",
       "2                      Japan    27      14      17      58\n",
       "3              Great Britain    22      21      22      65\n",
       "4  Russian Olympic Committee    20      28      23      71"
      ]
     },
     "execution_count": 112,
     "metadata": {},
     "output_type": "execute_result"
    }
   ],
   "source": [
    "medals_df = pd.read_csv('Data/medals.csv')\n",
    "medals_df.columns = ['Olympic Country', 'Gold', 'Silver', 'Bronze', 'Totals']\n",
    "print(medals_df.shape)\n",
    "medals_df.head()"
   ]
  },
  {
   "cell_type": "markdown",
   "id": "0b61d111",
   "metadata": {},
   "source": [
    "Read csv file with country indicator data into pandas"
   ]
  },
  {
   "cell_type": "code",
   "execution_count": 113,
   "id": "c2a4a82d",
   "metadata": {},
   "outputs": [
    {
     "data": {
      "text/html": [
       "<div>\n",
       "<style scoped>\n",
       "    .dataframe tbody tr th:only-of-type {\n",
       "        vertical-align: middle;\n",
       "    }\n",
       "\n",
       "    .dataframe tbody tr th {\n",
       "        vertical-align: top;\n",
       "    }\n",
       "\n",
       "    .dataframe thead th {\n",
       "        text-align: right;\n",
       "    }\n",
       "</style>\n",
       "<table border=\"1\" class=\"dataframe\">\n",
       "  <thead>\n",
       "    <tr style=\"text-align: right;\">\n",
       "      <th></th>\n",
       "      <th>Indicator Country</th>\n",
       "      <th>Health Expenditure (% of GDP)</th>\n",
       "      <th>GDP Per Capita</th>\n",
       "      <th>Gini Index</th>\n",
       "      <th>Education Expenditure (% of GDP)</th>\n",
       "      <th>Migrant Population Proportion</th>\n",
       "      <th>Air Pollution Exposure</th>\n",
       "      <th>Ages 20-24 Female Population Proportion</th>\n",
       "      <th>Ages 20-24 Male Population Proportion</th>\n",
       "      <th>Ages 25-29 Female Population Proportion</th>\n",
       "      <th>Ages 25-29 Male Population Proportion</th>\n",
       "      <th>Ages 30-34 Female Population Proportion</th>\n",
       "      <th>Ages 30-34 Male Population Proportion</th>\n",
       "      <th>Population</th>\n",
       "      <th>Urban Population Proportion</th>\n",
       "    </tr>\n",
       "  </thead>\n",
       "  <tbody>\n",
       "    <tr>\n",
       "      <th>0</th>\n",
       "      <td>Afghanistan</td>\n",
       "      <td>9.395727</td>\n",
       "      <td>1978.961579</td>\n",
       "      <td>NaN</td>\n",
       "      <td>3.21378</td>\n",
       "      <td>1.175547</td>\n",
       "      <td>56.910808</td>\n",
       "      <td>10.073862</td>\n",
       "      <td>10.098379</td>\n",
       "      <td>7.907260</td>\n",
       "      <td>8.063549</td>\n",
       "      <td>6.221683</td>\n",
       "      <td>6.503323</td>\n",
       "      <td>38928341.0</td>\n",
       "      <td>26.026000</td>\n",
       "    </tr>\n",
       "    <tr>\n",
       "      <th>1</th>\n",
       "      <td>Africa Eastern and Southern</td>\n",
       "      <td>5.925882</td>\n",
       "      <td>3371.814704</td>\n",
       "      <td>NaN</td>\n",
       "      <td>4.71930</td>\n",
       "      <td>1.734768</td>\n",
       "      <td>35.512988</td>\n",
       "      <td>9.218579</td>\n",
       "      <td>9.355607</td>\n",
       "      <td>7.906863</td>\n",
       "      <td>7.947182</td>\n",
       "      <td>6.763558</td>\n",
       "      <td>6.723442</td>\n",
       "      <td>677243299.0</td>\n",
       "      <td>36.783306</td>\n",
       "    </tr>\n",
       "    <tr>\n",
       "      <th>2</th>\n",
       "      <td>Africa Western and Central</td>\n",
       "      <td>4.004790</td>\n",
       "      <td>3995.039927</td>\n",
       "      <td>NaN</td>\n",
       "      <td>3.03285</td>\n",
       "      <td>2.079691</td>\n",
       "      <td>58.064482</td>\n",
       "      <td>8.940792</td>\n",
       "      <td>9.041989</td>\n",
       "      <td>7.522335</td>\n",
       "      <td>7.578698</td>\n",
       "      <td>6.425444</td>\n",
       "      <td>6.427822</td>\n",
       "      <td>458803476.0</td>\n",
       "      <td>47.848625</td>\n",
       "    </tr>\n",
       "    <tr>\n",
       "      <th>3</th>\n",
       "      <td>Albania</td>\n",
       "      <td>5.262714</td>\n",
       "      <td>13295.410885</td>\n",
       "      <td>33.2</td>\n",
       "      <td>3.94576</td>\n",
       "      <td>1.989036</td>\n",
       "      <td>18.200603</td>\n",
       "      <td>7.853874</td>\n",
       "      <td>8.013442</td>\n",
       "      <td>8.138641</td>\n",
       "      <td>8.828823</td>\n",
       "      <td>7.168070</td>\n",
       "      <td>8.372488</td>\n",
       "      <td>2837743.0</td>\n",
       "      <td>62.112000</td>\n",
       "    </tr>\n",
       "    <tr>\n",
       "      <th>4</th>\n",
       "      <td>Algeria</td>\n",
       "      <td>6.218427</td>\n",
       "      <td>10681.679297</td>\n",
       "      <td>27.6</td>\n",
       "      <td>6.10036</td>\n",
       "      <td>0.611072</td>\n",
       "      <td>38.884011</td>\n",
       "      <td>6.769581</td>\n",
       "      <td>6.910889</td>\n",
       "      <td>8.120237</td>\n",
       "      <td>8.179230</td>\n",
       "      <td>8.527349</td>\n",
       "      <td>8.474931</td>\n",
       "      <td>43851043.0</td>\n",
       "      <td>73.733000</td>\n",
       "    </tr>\n",
       "  </tbody>\n",
       "</table>\n",
       "</div>"
      ],
      "text/plain": [
       "             Indicator Country  Health Expenditure (% of GDP)  GDP Per Capita  \\\n",
       "0                  Afghanistan                       9.395727     1978.961579   \n",
       "1  Africa Eastern and Southern                       5.925882     3371.814704   \n",
       "2   Africa Western and Central                       4.004790     3995.039927   \n",
       "3                      Albania                       5.262714    13295.410885   \n",
       "4                      Algeria                       6.218427    10681.679297   \n",
       "\n",
       "   Gini Index  Education Expenditure (% of GDP)  \\\n",
       "0         NaN                           3.21378   \n",
       "1         NaN                           4.71930   \n",
       "2         NaN                           3.03285   \n",
       "3        33.2                           3.94576   \n",
       "4        27.6                           6.10036   \n",
       "\n",
       "   Migrant Population Proportion  Air Pollution Exposure  \\\n",
       "0                       1.175547               56.910808   \n",
       "1                       1.734768               35.512988   \n",
       "2                       2.079691               58.064482   \n",
       "3                       1.989036               18.200603   \n",
       "4                       0.611072               38.884011   \n",
       "\n",
       "   Ages 20-24 Female Population Proportion  \\\n",
       "0                                10.073862   \n",
       "1                                 9.218579   \n",
       "2                                 8.940792   \n",
       "3                                 7.853874   \n",
       "4                                 6.769581   \n",
       "\n",
       "   Ages 20-24 Male Population Proportion  \\\n",
       "0                              10.098379   \n",
       "1                               9.355607   \n",
       "2                               9.041989   \n",
       "3                               8.013442   \n",
       "4                               6.910889   \n",
       "\n",
       "   Ages 25-29 Female Population Proportion  \\\n",
       "0                                 7.907260   \n",
       "1                                 7.906863   \n",
       "2                                 7.522335   \n",
       "3                                 8.138641   \n",
       "4                                 8.120237   \n",
       "\n",
       "   Ages 25-29 Male Population Proportion  \\\n",
       "0                               8.063549   \n",
       "1                               7.947182   \n",
       "2                               7.578698   \n",
       "3                               8.828823   \n",
       "4                               8.179230   \n",
       "\n",
       "   Ages 30-34 Female Population Proportion  \\\n",
       "0                                 6.221683   \n",
       "1                                 6.763558   \n",
       "2                                 6.425444   \n",
       "3                                 7.168070   \n",
       "4                                 8.527349   \n",
       "\n",
       "   Ages 30-34 Male Population Proportion   Population  \\\n",
       "0                               6.503323   38928341.0   \n",
       "1                               6.723442  677243299.0   \n",
       "2                               6.427822  458803476.0   \n",
       "3                               8.372488    2837743.0   \n",
       "4                               8.474931   43851043.0   \n",
       "\n",
       "   Urban Population Proportion  \n",
       "0                    26.026000  \n",
       "1                    36.783306  \n",
       "2                    47.848625  \n",
       "3                    62.112000  \n",
       "4                    73.733000  "
      ]
     },
     "execution_count": 113,
     "metadata": {},
     "output_type": "execute_result"
    }
   ],
   "source": [
    "indicators_df = pd.read_csv('Data/indicators.csv')\n",
    "indicators_df.columns = ['Indicator Country', 'Health Expenditure (% of GDP)', 'GDP Per Capita', 'Gini Index', \n",
    "                         'Education Expenditure (% of GDP)', 'Migrant Population Proportion', \n",
    "                         'Air Pollution Exposure', 'Ages 20-24 Female Population Proportion',\n",
    "                         'Ages 20-24 Male Population Proportion', 'Ages 25-29 Female Population Proportion',\n",
    "                         'Ages 25-29 Male Population Proportion', 'Ages 30-34 Female Population Proportion',\n",
    "                         'Ages 30-34 Male Population Proportion', 'Population', 'Urban Population Proportion']\n",
    "indicators_df.head()"
   ]
  },
  {
   "cell_type": "markdown",
   "id": "c9879629",
   "metadata": {},
   "source": [
    "Read csv file with list of olympic countries into Pandas"
   ]
  },
  {
   "cell_type": "code",
   "execution_count": 114,
   "id": "97fa8321",
   "metadata": {},
   "outputs": [
    {
     "data": {
      "text/html": [
       "<div>\n",
       "<style scoped>\n",
       "    .dataframe tbody tr th:only-of-type {\n",
       "        vertical-align: middle;\n",
       "    }\n",
       "\n",
       "    .dataframe tbody tr th {\n",
       "        vertical-align: top;\n",
       "    }\n",
       "\n",
       "    .dataframe thead th {\n",
       "        text-align: right;\n",
       "    }\n",
       "</style>\n",
       "<table border=\"1\" class=\"dataframe\">\n",
       "  <thead>\n",
       "    <tr style=\"text-align: right;\">\n",
       "      <th></th>\n",
       "      <th>Country</th>\n",
       "    </tr>\n",
       "  </thead>\n",
       "  <tbody>\n",
       "    <tr>\n",
       "      <th>0</th>\n",
       "      <td>Afghanistan</td>\n",
       "    </tr>\n",
       "    <tr>\n",
       "      <th>1</th>\n",
       "      <td>Albania</td>\n",
       "    </tr>\n",
       "    <tr>\n",
       "      <th>2</th>\n",
       "      <td>Algeria</td>\n",
       "    </tr>\n",
       "    <tr>\n",
       "      <th>3</th>\n",
       "      <td>American Samoa</td>\n",
       "    </tr>\n",
       "    <tr>\n",
       "      <th>4</th>\n",
       "      <td>Andorra</td>\n",
       "    </tr>\n",
       "  </tbody>\n",
       "</table>\n",
       "</div>"
      ],
      "text/plain": [
       "          Country\n",
       "0     Afghanistan\n",
       "1         Albania\n",
       "2         Algeria\n",
       "3  American Samoa\n",
       "4         Andorra"
      ]
     },
     "execution_count": 114,
     "metadata": {},
     "output_type": "execute_result"
    }
   ],
   "source": [
    "countries_df = pd.read_csv('Data/olympic_countries.csv')\n",
    "countries_df['Country'] = countries_df['Country'].apply(lambda x: x.strip())\n",
    "countries_df.head()"
   ]
  },
  {
   "cell_type": "markdown",
   "id": "ac71daae",
   "metadata": {},
   "source": [
    "# Scrub Data"
   ]
  },
  {
   "cell_type": "markdown",
   "id": "ac66f61c",
   "metadata": {},
   "source": [
    "View list of countries whose names are different in medals_df and countries_df "
   ]
  },
  {
   "cell_type": "code",
   "execution_count": 115,
   "id": "b6da348a",
   "metadata": {},
   "outputs": [
    {
     "name": "stdout",
     "output_type": "stream",
     "text": [
      "['United States' 'China' 'Russian Olympic Committee' 'South Korea' 'Iran'\n",
      " 'Hong Kong' 'Ivory Coast' 'Syria' 'Moldova']\n"
     ]
    }
   ],
   "source": [
    "test_df = pd.merge(countries_df, medals_df, left_on='Country', right_on='Olympic Country', how='right')\n",
    "print(test_df[test_df['Country'].isna()]['Olympic Country'].values)"
   ]
  },
  {
   "cell_type": "markdown",
   "id": "fe2660e3",
   "metadata": {},
   "source": [
    "Replace different country names from medals_df with the corresponding name from countries_df and merge the two dfs"
   ]
  },
  {
   "cell_type": "code",
   "execution_count": 116,
   "id": "f0b5c1fe",
   "metadata": {},
   "outputs": [
    {
     "name": "stdout",
     "output_type": "stream",
     "text": [
      "(206, 5)\n"
     ]
    },
    {
     "data": {
      "text/html": [
       "<div>\n",
       "<style scoped>\n",
       "    .dataframe tbody tr th:only-of-type {\n",
       "        vertical-align: middle;\n",
       "    }\n",
       "\n",
       "    .dataframe tbody tr th {\n",
       "        vertical-align: top;\n",
       "    }\n",
       "\n",
       "    .dataframe thead th {\n",
       "        text-align: right;\n",
       "    }\n",
       "</style>\n",
       "<table border=\"1\" class=\"dataframe\">\n",
       "  <thead>\n",
       "    <tr style=\"text-align: right;\">\n",
       "      <th></th>\n",
       "      <th>Country</th>\n",
       "      <th>Gold</th>\n",
       "      <th>Silver</th>\n",
       "      <th>Bronze</th>\n",
       "      <th>Totals</th>\n",
       "    </tr>\n",
       "  </thead>\n",
       "  <tbody>\n",
       "    <tr>\n",
       "      <th>0</th>\n",
       "      <td>Afghanistan</td>\n",
       "      <td>NaN</td>\n",
       "      <td>NaN</td>\n",
       "      <td>NaN</td>\n",
       "      <td>NaN</td>\n",
       "    </tr>\n",
       "    <tr>\n",
       "      <th>1</th>\n",
       "      <td>Albania</td>\n",
       "      <td>NaN</td>\n",
       "      <td>NaN</td>\n",
       "      <td>NaN</td>\n",
       "      <td>NaN</td>\n",
       "    </tr>\n",
       "    <tr>\n",
       "      <th>2</th>\n",
       "      <td>Algeria</td>\n",
       "      <td>NaN</td>\n",
       "      <td>NaN</td>\n",
       "      <td>NaN</td>\n",
       "      <td>NaN</td>\n",
       "    </tr>\n",
       "    <tr>\n",
       "      <th>3</th>\n",
       "      <td>American Samoa</td>\n",
       "      <td>NaN</td>\n",
       "      <td>NaN</td>\n",
       "      <td>NaN</td>\n",
       "      <td>NaN</td>\n",
       "    </tr>\n",
       "    <tr>\n",
       "      <th>4</th>\n",
       "      <td>Andorra</td>\n",
       "      <td>NaN</td>\n",
       "      <td>NaN</td>\n",
       "      <td>NaN</td>\n",
       "      <td>NaN</td>\n",
       "    </tr>\n",
       "  </tbody>\n",
       "</table>\n",
       "</div>"
      ],
      "text/plain": [
       "          Country  Gold  Silver  Bronze  Totals\n",
       "0     Afghanistan   NaN     NaN     NaN     NaN\n",
       "1         Albania   NaN     NaN     NaN     NaN\n",
       "2         Algeria   NaN     NaN     NaN     NaN\n",
       "3  American Samoa   NaN     NaN     NaN     NaN\n",
       "4         Andorra   NaN     NaN     NaN     NaN"
      ]
     },
     "execution_count": 116,
     "metadata": {},
     "output_type": "execute_result"
    }
   ],
   "source": [
    "countries_replace_dict = {'United States': 'United States of America', 'China': \"People's Republic of China\",\n",
    "                          'Russian Olympic Committee': 'ROC*', 'South Korea': 'Republic of Korea', 'Iran':\n",
    "                          'Islamic Republic of Iran', 'Hong Kong': 'Hong Kong, China', \n",
    "                          'Ivory Coast' : \"Côte d'Ivoire\", 'Syria' : 'Syrian Arab Republic', \n",
    "                          'Moldova' : 'Republic of Moldova'}\n",
    "medals_df['Olympic Country'] = medals_df['Olympic Country'].replace(countries_replace_dict)\n",
    "df = pd.merge(countries_df, medals_df, left_on='Country', right_on='Olympic Country', how='left')\n",
    "df.drop(columns='Olympic Country', inplace=True)\n",
    "print(df.shape)\n",
    "df.head()"
   ]
  },
  {
   "cell_type": "markdown",
   "id": "845c458c",
   "metadata": {},
   "source": [
    "View list of countries whose names are different in df and indicators_df"
   ]
  },
  {
   "cell_type": "code",
   "execution_count": 117,
   "id": "9d248bc3",
   "metadata": {},
   "outputs": [
    {
     "name": "stdout",
     "output_type": "stream",
     "text": [
      "['Bahamas' 'Cape Verde' 'Chinese Taipei' 'Congo' 'Cook Islands'\n",
      " \"Côte d'Ivoire\" \"Democratic People's Republic of Korea\"\n",
      " 'Democratic Republic of the Congo' 'Dominique' 'Egypt'\n",
      " 'Federated States of Micronesia' 'Gambia' 'Great Britain'\n",
      " 'Hong Kong, China' 'Islamic Republic of Iran' 'Kyrgyzstan'\n",
      " \"Lao People's Democratic Republic\" 'Palestine'\n",
      " \"People's Republic of China\" 'Republic of Korea' 'Republic of Moldova'\n",
      " 'ROC*' 'Saint Kitts and Nevis' 'Saint Lucia'\n",
      " 'Samoa (until 1996 Western Samoa)' 'Slovakia'\n",
      " 'St Vincent and the Grenadines' 'United Republic of Tanzania'\n",
      " 'United States of America' 'Venezuela' 'Virgin Islands, British'\n",
      " 'Virgin Islands, US' 'Yemen']\n"
     ]
    }
   ],
   "source": [
    "test2_df = pd.merge(df, indicators_df, left_on='Country', right_on='Indicator Country', how='left')\n",
    "print(test2_df[test2_df['Indicator Country'].isna()]['Country'].values)"
   ]
  },
  {
   "cell_type": "markdown",
   "id": "90d682bb",
   "metadata": {},
   "source": [
    "Replace different country names from indicators_df with the corresponding name from df and merge the two dfs"
   ]
  },
  {
   "cell_type": "code",
   "execution_count": 118,
   "id": "c0fe36c9",
   "metadata": {},
   "outputs": [
    {
     "data": {
      "text/html": [
       "<div>\n",
       "<style scoped>\n",
       "    .dataframe tbody tr th:only-of-type {\n",
       "        vertical-align: middle;\n",
       "    }\n",
       "\n",
       "    .dataframe tbody tr th {\n",
       "        vertical-align: top;\n",
       "    }\n",
       "\n",
       "    .dataframe thead th {\n",
       "        text-align: right;\n",
       "    }\n",
       "</style>\n",
       "<table border=\"1\" class=\"dataframe\">\n",
       "  <thead>\n",
       "    <tr style=\"text-align: right;\">\n",
       "      <th></th>\n",
       "      <th>Country</th>\n",
       "      <th>Gold</th>\n",
       "      <th>Silver</th>\n",
       "      <th>Bronze</th>\n",
       "      <th>Totals</th>\n",
       "      <th>Health Expenditure (% of GDP)</th>\n",
       "      <th>GDP Per Capita</th>\n",
       "      <th>Gini Index</th>\n",
       "      <th>Education Expenditure (% of GDP)</th>\n",
       "      <th>Migrant Population Proportion</th>\n",
       "      <th>Air Pollution Exposure</th>\n",
       "      <th>Ages 20-24 Female Population Proportion</th>\n",
       "      <th>Ages 20-24 Male Population Proportion</th>\n",
       "      <th>Ages 25-29 Female Population Proportion</th>\n",
       "      <th>Ages 25-29 Male Population Proportion</th>\n",
       "      <th>Ages 30-34 Female Population Proportion</th>\n",
       "      <th>Ages 30-34 Male Population Proportion</th>\n",
       "      <th>Population</th>\n",
       "      <th>Urban Population Proportion</th>\n",
       "    </tr>\n",
       "  </thead>\n",
       "  <tbody>\n",
       "    <tr>\n",
       "      <th>0</th>\n",
       "      <td>Afghanistan</td>\n",
       "      <td>NaN</td>\n",
       "      <td>NaN</td>\n",
       "      <td>NaN</td>\n",
       "      <td>NaN</td>\n",
       "      <td>9.395727</td>\n",
       "      <td>1978.961579</td>\n",
       "      <td>NaN</td>\n",
       "      <td>3.21378</td>\n",
       "      <td>1.175547</td>\n",
       "      <td>56.910808</td>\n",
       "      <td>10.073862</td>\n",
       "      <td>10.098379</td>\n",
       "      <td>7.907260</td>\n",
       "      <td>8.063549</td>\n",
       "      <td>6.221683</td>\n",
       "      <td>6.503323</td>\n",
       "      <td>38928341.0</td>\n",
       "      <td>26.026</td>\n",
       "    </tr>\n",
       "    <tr>\n",
       "      <th>1</th>\n",
       "      <td>Albania</td>\n",
       "      <td>NaN</td>\n",
       "      <td>NaN</td>\n",
       "      <td>NaN</td>\n",
       "      <td>NaN</td>\n",
       "      <td>5.262714</td>\n",
       "      <td>13295.410885</td>\n",
       "      <td>33.2</td>\n",
       "      <td>3.94576</td>\n",
       "      <td>1.989036</td>\n",
       "      <td>18.200603</td>\n",
       "      <td>7.853874</td>\n",
       "      <td>8.013442</td>\n",
       "      <td>8.138641</td>\n",
       "      <td>8.828823</td>\n",
       "      <td>7.168070</td>\n",
       "      <td>8.372488</td>\n",
       "      <td>2837743.0</td>\n",
       "      <td>62.112</td>\n",
       "    </tr>\n",
       "    <tr>\n",
       "      <th>2</th>\n",
       "      <td>Algeria</td>\n",
       "      <td>NaN</td>\n",
       "      <td>NaN</td>\n",
       "      <td>NaN</td>\n",
       "      <td>NaN</td>\n",
       "      <td>6.218427</td>\n",
       "      <td>10681.679297</td>\n",
       "      <td>27.6</td>\n",
       "      <td>6.10036</td>\n",
       "      <td>0.611072</td>\n",
       "      <td>38.884011</td>\n",
       "      <td>6.769581</td>\n",
       "      <td>6.910889</td>\n",
       "      <td>8.120237</td>\n",
       "      <td>8.179230</td>\n",
       "      <td>8.527349</td>\n",
       "      <td>8.474931</td>\n",
       "      <td>43851043.0</td>\n",
       "      <td>73.733</td>\n",
       "    </tr>\n",
       "    <tr>\n",
       "      <th>3</th>\n",
       "      <td>American Samoa</td>\n",
       "      <td>NaN</td>\n",
       "      <td>NaN</td>\n",
       "      <td>NaN</td>\n",
       "      <td>NaN</td>\n",
       "      <td>NaN</td>\n",
       "      <td>NaN</td>\n",
       "      <td>NaN</td>\n",
       "      <td>NaN</td>\n",
       "      <td>41.802009</td>\n",
       "      <td>12.473820</td>\n",
       "      <td>NaN</td>\n",
       "      <td>NaN</td>\n",
       "      <td>NaN</td>\n",
       "      <td>NaN</td>\n",
       "      <td>NaN</td>\n",
       "      <td>NaN</td>\n",
       "      <td>55197.0</td>\n",
       "      <td>87.153</td>\n",
       "    </tr>\n",
       "    <tr>\n",
       "      <th>4</th>\n",
       "      <td>Andorra</td>\n",
       "      <td>NaN</td>\n",
       "      <td>NaN</td>\n",
       "      <td>NaN</td>\n",
       "      <td>NaN</td>\n",
       "      <td>6.710331</td>\n",
       "      <td>NaN</td>\n",
       "      <td>NaN</td>\n",
       "      <td>3.15061</td>\n",
       "      <td>59.713649</td>\n",
       "      <td>10.307621</td>\n",
       "      <td>NaN</td>\n",
       "      <td>NaN</td>\n",
       "      <td>NaN</td>\n",
       "      <td>NaN</td>\n",
       "      <td>NaN</td>\n",
       "      <td>NaN</td>\n",
       "      <td>77265.0</td>\n",
       "      <td>87.916</td>\n",
       "    </tr>\n",
       "  </tbody>\n",
       "</table>\n",
       "</div>"
      ],
      "text/plain": [
       "          Country  Gold  Silver  Bronze  Totals  \\\n",
       "0     Afghanistan   NaN     NaN     NaN     NaN   \n",
       "1         Albania   NaN     NaN     NaN     NaN   \n",
       "2         Algeria   NaN     NaN     NaN     NaN   \n",
       "3  American Samoa   NaN     NaN     NaN     NaN   \n",
       "4         Andorra   NaN     NaN     NaN     NaN   \n",
       "\n",
       "   Health Expenditure (% of GDP)  GDP Per Capita  Gini Index  \\\n",
       "0                       9.395727     1978.961579         NaN   \n",
       "1                       5.262714    13295.410885        33.2   \n",
       "2                       6.218427    10681.679297        27.6   \n",
       "3                            NaN             NaN         NaN   \n",
       "4                       6.710331             NaN         NaN   \n",
       "\n",
       "   Education Expenditure (% of GDP)  Migrant Population Proportion  \\\n",
       "0                           3.21378                       1.175547   \n",
       "1                           3.94576                       1.989036   \n",
       "2                           6.10036                       0.611072   \n",
       "3                               NaN                      41.802009   \n",
       "4                           3.15061                      59.713649   \n",
       "\n",
       "   Air Pollution Exposure  Ages 20-24 Female Population Proportion  \\\n",
       "0               56.910808                                10.073862   \n",
       "1               18.200603                                 7.853874   \n",
       "2               38.884011                                 6.769581   \n",
       "3               12.473820                                      NaN   \n",
       "4               10.307621                                      NaN   \n",
       "\n",
       "   Ages 20-24 Male Population Proportion  \\\n",
       "0                              10.098379   \n",
       "1                               8.013442   \n",
       "2                               6.910889   \n",
       "3                                    NaN   \n",
       "4                                    NaN   \n",
       "\n",
       "   Ages 25-29 Female Population Proportion  \\\n",
       "0                                 7.907260   \n",
       "1                                 8.138641   \n",
       "2                                 8.120237   \n",
       "3                                      NaN   \n",
       "4                                      NaN   \n",
       "\n",
       "   Ages 25-29 Male Population Proportion  \\\n",
       "0                               8.063549   \n",
       "1                               8.828823   \n",
       "2                               8.179230   \n",
       "3                                    NaN   \n",
       "4                                    NaN   \n",
       "\n",
       "   Ages 30-34 Female Population Proportion  \\\n",
       "0                                 6.221683   \n",
       "1                                 7.168070   \n",
       "2                                 8.527349   \n",
       "3                                      NaN   \n",
       "4                                      NaN   \n",
       "\n",
       "   Ages 30-34 Male Population Proportion  Population  \\\n",
       "0                               6.503323  38928341.0   \n",
       "1                               8.372488   2837743.0   \n",
       "2                               8.474931  43851043.0   \n",
       "3                                    NaN     55197.0   \n",
       "4                                    NaN     77265.0   \n",
       "\n",
       "   Urban Population Proportion  \n",
       "0                       26.026  \n",
       "1                       62.112  \n",
       "2                       73.733  \n",
       "3                       87.153  \n",
       "4                       87.916  "
      ]
     },
     "execution_count": 118,
     "metadata": {},
     "output_type": "execute_result"
    }
   ],
   "source": [
    "indicator_replacements_df = pd.read_excel('Data/indicator_countries.xlsx')\n",
    "indicator_countries = list(indicator_replacements_df['Indicator Country'].values)\n",
    "indicator_replacements = list(indicator_replacements_df['Country'].values)\n",
    "indicators_replace_dict = {}\n",
    "for key, value in zip(indicator_countries, indicator_replacements):\n",
    "    indicators_replace_dict[key] = value\n",
    "indicators_df['Indicator Country'] = indicators_df['Indicator Country'].replace(indicators_replace_dict)\n",
    "df = pd.merge(df, indicators_df, left_on='Country', right_on='Indicator Country', how='inner')\n",
    "df.drop(columns=['Indicator Country'], inplace=True)\n",
    "df.head()"
   ]
  },
  {
   "cell_type": "markdown",
   "id": "3aaf08a3",
   "metadata": {},
   "source": [
    "Dop columns not useful for modeling"
   ]
  },
  {
   "cell_type": "code",
   "execution_count": 119,
   "id": "e2875286",
   "metadata": {},
   "outputs": [
    {
     "data": {
      "text/html": [
       "<div>\n",
       "<style scoped>\n",
       "    .dataframe tbody tr th:only-of-type {\n",
       "        vertical-align: middle;\n",
       "    }\n",
       "\n",
       "    .dataframe tbody tr th {\n",
       "        vertical-align: top;\n",
       "    }\n",
       "\n",
       "    .dataframe thead th {\n",
       "        text-align: right;\n",
       "    }\n",
       "</style>\n",
       "<table border=\"1\" class=\"dataframe\">\n",
       "  <thead>\n",
       "    <tr style=\"text-align: right;\">\n",
       "      <th></th>\n",
       "      <th>Country</th>\n",
       "      <th>Totals</th>\n",
       "      <th>Health Expenditure (% of GDP)</th>\n",
       "      <th>GDP Per Capita</th>\n",
       "      <th>Gini Index</th>\n",
       "      <th>Education Expenditure (% of GDP)</th>\n",
       "      <th>Migrant Population Proportion</th>\n",
       "      <th>Air Pollution Exposure</th>\n",
       "      <th>Ages 20-24 Female Population Proportion</th>\n",
       "      <th>Ages 20-24 Male Population Proportion</th>\n",
       "      <th>Ages 25-29 Female Population Proportion</th>\n",
       "      <th>Ages 25-29 Male Population Proportion</th>\n",
       "      <th>Ages 30-34 Female Population Proportion</th>\n",
       "      <th>Ages 30-34 Male Population Proportion</th>\n",
       "      <th>Population</th>\n",
       "      <th>Urban Population Proportion</th>\n",
       "    </tr>\n",
       "  </thead>\n",
       "  <tbody>\n",
       "    <tr>\n",
       "      <th>0</th>\n",
       "      <td>Afghanistan</td>\n",
       "      <td>NaN</td>\n",
       "      <td>9.395727</td>\n",
       "      <td>1978.961579</td>\n",
       "      <td>NaN</td>\n",
       "      <td>3.21378</td>\n",
       "      <td>1.175547</td>\n",
       "      <td>56.910808</td>\n",
       "      <td>10.073862</td>\n",
       "      <td>10.098379</td>\n",
       "      <td>7.907260</td>\n",
       "      <td>8.063549</td>\n",
       "      <td>6.221683</td>\n",
       "      <td>6.503323</td>\n",
       "      <td>38928341.0</td>\n",
       "      <td>26.026</td>\n",
       "    </tr>\n",
       "    <tr>\n",
       "      <th>1</th>\n",
       "      <td>Albania</td>\n",
       "      <td>NaN</td>\n",
       "      <td>5.262714</td>\n",
       "      <td>13295.410885</td>\n",
       "      <td>33.2</td>\n",
       "      <td>3.94576</td>\n",
       "      <td>1.989036</td>\n",
       "      <td>18.200603</td>\n",
       "      <td>7.853874</td>\n",
       "      <td>8.013442</td>\n",
       "      <td>8.138641</td>\n",
       "      <td>8.828823</td>\n",
       "      <td>7.168070</td>\n",
       "      <td>8.372488</td>\n",
       "      <td>2837743.0</td>\n",
       "      <td>62.112</td>\n",
       "    </tr>\n",
       "    <tr>\n",
       "      <th>2</th>\n",
       "      <td>Algeria</td>\n",
       "      <td>NaN</td>\n",
       "      <td>6.218427</td>\n",
       "      <td>10681.679297</td>\n",
       "      <td>27.6</td>\n",
       "      <td>6.10036</td>\n",
       "      <td>0.611072</td>\n",
       "      <td>38.884011</td>\n",
       "      <td>6.769581</td>\n",
       "      <td>6.910889</td>\n",
       "      <td>8.120237</td>\n",
       "      <td>8.179230</td>\n",
       "      <td>8.527349</td>\n",
       "      <td>8.474931</td>\n",
       "      <td>43851043.0</td>\n",
       "      <td>73.733</td>\n",
       "    </tr>\n",
       "    <tr>\n",
       "      <th>3</th>\n",
       "      <td>American Samoa</td>\n",
       "      <td>NaN</td>\n",
       "      <td>NaN</td>\n",
       "      <td>NaN</td>\n",
       "      <td>NaN</td>\n",
       "      <td>NaN</td>\n",
       "      <td>41.802009</td>\n",
       "      <td>12.473820</td>\n",
       "      <td>NaN</td>\n",
       "      <td>NaN</td>\n",
       "      <td>NaN</td>\n",
       "      <td>NaN</td>\n",
       "      <td>NaN</td>\n",
       "      <td>NaN</td>\n",
       "      <td>55197.0</td>\n",
       "      <td>87.153</td>\n",
       "    </tr>\n",
       "    <tr>\n",
       "      <th>4</th>\n",
       "      <td>Andorra</td>\n",
       "      <td>NaN</td>\n",
       "      <td>6.710331</td>\n",
       "      <td>NaN</td>\n",
       "      <td>NaN</td>\n",
       "      <td>3.15061</td>\n",
       "      <td>59.713649</td>\n",
       "      <td>10.307621</td>\n",
       "      <td>NaN</td>\n",
       "      <td>NaN</td>\n",
       "      <td>NaN</td>\n",
       "      <td>NaN</td>\n",
       "      <td>NaN</td>\n",
       "      <td>NaN</td>\n",
       "      <td>77265.0</td>\n",
       "      <td>87.916</td>\n",
       "    </tr>\n",
       "  </tbody>\n",
       "</table>\n",
       "</div>"
      ],
      "text/plain": [
       "          Country  Totals  Health Expenditure (% of GDP)  GDP Per Capita  \\\n",
       "0     Afghanistan     NaN                       9.395727     1978.961579   \n",
       "1         Albania     NaN                       5.262714    13295.410885   \n",
       "2         Algeria     NaN                       6.218427    10681.679297   \n",
       "3  American Samoa     NaN                            NaN             NaN   \n",
       "4         Andorra     NaN                       6.710331             NaN   \n",
       "\n",
       "   Gini Index  Education Expenditure (% of GDP)  \\\n",
       "0         NaN                           3.21378   \n",
       "1        33.2                           3.94576   \n",
       "2        27.6                           6.10036   \n",
       "3         NaN                               NaN   \n",
       "4         NaN                           3.15061   \n",
       "\n",
       "   Migrant Population Proportion  Air Pollution Exposure  \\\n",
       "0                       1.175547               56.910808   \n",
       "1                       1.989036               18.200603   \n",
       "2                       0.611072               38.884011   \n",
       "3                      41.802009               12.473820   \n",
       "4                      59.713649               10.307621   \n",
       "\n",
       "   Ages 20-24 Female Population Proportion  \\\n",
       "0                                10.073862   \n",
       "1                                 7.853874   \n",
       "2                                 6.769581   \n",
       "3                                      NaN   \n",
       "4                                      NaN   \n",
       "\n",
       "   Ages 20-24 Male Population Proportion  \\\n",
       "0                              10.098379   \n",
       "1                               8.013442   \n",
       "2                               6.910889   \n",
       "3                                    NaN   \n",
       "4                                    NaN   \n",
       "\n",
       "   Ages 25-29 Female Population Proportion  \\\n",
       "0                                 7.907260   \n",
       "1                                 8.138641   \n",
       "2                                 8.120237   \n",
       "3                                      NaN   \n",
       "4                                      NaN   \n",
       "\n",
       "   Ages 25-29 Male Population Proportion  \\\n",
       "0                               8.063549   \n",
       "1                               8.828823   \n",
       "2                               8.179230   \n",
       "3                                    NaN   \n",
       "4                                    NaN   \n",
       "\n",
       "   Ages 30-34 Female Population Proportion  \\\n",
       "0                                 6.221683   \n",
       "1                                 7.168070   \n",
       "2                                 8.527349   \n",
       "3                                      NaN   \n",
       "4                                      NaN   \n",
       "\n",
       "   Ages 30-34 Male Population Proportion  Population  \\\n",
       "0                               6.503323  38928341.0   \n",
       "1                               8.372488   2837743.0   \n",
       "2                               8.474931  43851043.0   \n",
       "3                                    NaN     55197.0   \n",
       "4                                    NaN     77265.0   \n",
       "\n",
       "   Urban Population Proportion  \n",
       "0                       26.026  \n",
       "1                       62.112  \n",
       "2                       73.733  \n",
       "3                       87.153  \n",
       "4                       87.916  "
      ]
     },
     "execution_count": 119,
     "metadata": {},
     "output_type": "execute_result"
    }
   ],
   "source": [
    "df.drop(columns=['Gold', 'Silver', 'Bronze'], inplace=True)\n",
    "df.head()"
   ]
  },
  {
   "cell_type": "markdown",
   "id": "6be64359",
   "metadata": {},
   "source": [
    "Calculate Ages 20-34 Population Proportion interaction between features and drop columns used to calculate interaction"
   ]
  },
  {
   "cell_type": "code",
   "execution_count": 120,
   "id": "1a82a79d",
   "metadata": {},
   "outputs": [
    {
     "data": {
      "text/html": [
       "<div>\n",
       "<style scoped>\n",
       "    .dataframe tbody tr th:only-of-type {\n",
       "        vertical-align: middle;\n",
       "    }\n",
       "\n",
       "    .dataframe tbody tr th {\n",
       "        vertical-align: top;\n",
       "    }\n",
       "\n",
       "    .dataframe thead th {\n",
       "        text-align: right;\n",
       "    }\n",
       "</style>\n",
       "<table border=\"1\" class=\"dataframe\">\n",
       "  <thead>\n",
       "    <tr style=\"text-align: right;\">\n",
       "      <th></th>\n",
       "      <th>Country</th>\n",
       "      <th>Totals</th>\n",
       "      <th>Health Expenditure (% of GDP)</th>\n",
       "      <th>GDP Per Capita</th>\n",
       "      <th>Gini Index</th>\n",
       "      <th>Education Expenditure (% of GDP)</th>\n",
       "      <th>Migrant Population Proportion</th>\n",
       "      <th>Air Pollution Exposure</th>\n",
       "      <th>Population</th>\n",
       "      <th>Urban Population Proportion</th>\n",
       "      <th>Ages 20-34 Population Proportion</th>\n",
       "    </tr>\n",
       "  </thead>\n",
       "  <tbody>\n",
       "    <tr>\n",
       "      <th>0</th>\n",
       "      <td>Afghanistan</td>\n",
       "      <td>NaN</td>\n",
       "      <td>9.395727</td>\n",
       "      <td>1978.961579</td>\n",
       "      <td>NaN</td>\n",
       "      <td>3.21378</td>\n",
       "      <td>1.175547</td>\n",
       "      <td>56.910808</td>\n",
       "      <td>38928341.0</td>\n",
       "      <td>26.026</td>\n",
       "      <td>24.434028</td>\n",
       "    </tr>\n",
       "    <tr>\n",
       "      <th>1</th>\n",
       "      <td>Albania</td>\n",
       "      <td>NaN</td>\n",
       "      <td>5.262714</td>\n",
       "      <td>13295.410885</td>\n",
       "      <td>33.2</td>\n",
       "      <td>3.94576</td>\n",
       "      <td>1.989036</td>\n",
       "      <td>18.200603</td>\n",
       "      <td>2837743.0</td>\n",
       "      <td>62.112</td>\n",
       "      <td>24.187669</td>\n",
       "    </tr>\n",
       "    <tr>\n",
       "      <th>2</th>\n",
       "      <td>Algeria</td>\n",
       "      <td>NaN</td>\n",
       "      <td>6.218427</td>\n",
       "      <td>10681.679297</td>\n",
       "      <td>27.6</td>\n",
       "      <td>6.10036</td>\n",
       "      <td>0.611072</td>\n",
       "      <td>38.884011</td>\n",
       "      <td>43851043.0</td>\n",
       "      <td>73.733</td>\n",
       "      <td>23.491109</td>\n",
       "    </tr>\n",
       "    <tr>\n",
       "      <th>3</th>\n",
       "      <td>American Samoa</td>\n",
       "      <td>NaN</td>\n",
       "      <td>NaN</td>\n",
       "      <td>NaN</td>\n",
       "      <td>NaN</td>\n",
       "      <td>NaN</td>\n",
       "      <td>41.802009</td>\n",
       "      <td>12.473820</td>\n",
       "      <td>55197.0</td>\n",
       "      <td>87.153</td>\n",
       "      <td>NaN</td>\n",
       "    </tr>\n",
       "    <tr>\n",
       "      <th>4</th>\n",
       "      <td>Andorra</td>\n",
       "      <td>NaN</td>\n",
       "      <td>6.710331</td>\n",
       "      <td>NaN</td>\n",
       "      <td>NaN</td>\n",
       "      <td>3.15061</td>\n",
       "      <td>59.713649</td>\n",
       "      <td>10.307621</td>\n",
       "      <td>77265.0</td>\n",
       "      <td>87.916</td>\n",
       "      <td>NaN</td>\n",
       "    </tr>\n",
       "  </tbody>\n",
       "</table>\n",
       "</div>"
      ],
      "text/plain": [
       "          Country  Totals  Health Expenditure (% of GDP)  GDP Per Capita  \\\n",
       "0     Afghanistan     NaN                       9.395727     1978.961579   \n",
       "1         Albania     NaN                       5.262714    13295.410885   \n",
       "2         Algeria     NaN                       6.218427    10681.679297   \n",
       "3  American Samoa     NaN                            NaN             NaN   \n",
       "4         Andorra     NaN                       6.710331             NaN   \n",
       "\n",
       "   Gini Index  Education Expenditure (% of GDP)  \\\n",
       "0         NaN                           3.21378   \n",
       "1        33.2                           3.94576   \n",
       "2        27.6                           6.10036   \n",
       "3         NaN                               NaN   \n",
       "4         NaN                           3.15061   \n",
       "\n",
       "   Migrant Population Proportion  Air Pollution Exposure  Population  \\\n",
       "0                       1.175547               56.910808  38928341.0   \n",
       "1                       1.989036               18.200603   2837743.0   \n",
       "2                       0.611072               38.884011  43851043.0   \n",
       "3                      41.802009               12.473820     55197.0   \n",
       "4                      59.713649               10.307621     77265.0   \n",
       "\n",
       "   Urban Population Proportion  Ages 20-34 Population Proportion  \n",
       "0                       26.026                         24.434028  \n",
       "1                       62.112                         24.187669  \n",
       "2                       73.733                         23.491109  \n",
       "3                       87.153                               NaN  \n",
       "4                       87.916                               NaN  "
      ]
     },
     "execution_count": 120,
     "metadata": {},
     "output_type": "execute_result"
    }
   ],
   "source": [
    "df['Ages 20-34 Population Proportion'] = ((df['Ages 20-24 Female Population Proportion'] +\n",
    "                                           df['Ages 25-29 Female Population Proportion'] + \n",
    "                                           df['Ages 30-34 Female Population Proportion'])\n",
    "                                          +\n",
    "                                          (df['Ages 20-24 Male Population Proportion'] + \n",
    "                                           df['Ages 25-29 Male Population Proportion'] + \n",
    "                                           df['Ages 30-34 Male Population Proportion']))/2\n",
    "df.drop(columns=['Ages 20-24 Female Population Proportion', 'Ages 20-24 Male Population Proportion',\n",
    "                'Ages 25-29 Female Population Proportion', 'Ages 25-29 Male Population Proportion',\n",
    "                'Ages 30-34 Female Population Proportion', 'Ages 30-34 Male Population Proportion'], inplace=True)\n",
    "df.head()"
   ]
  },
  {
   "cell_type": "markdown",
   "id": "f47eb910",
   "metadata": {},
   "source": [
    "use df.info to see what further scrubbing needed"
   ]
  },
  {
   "cell_type": "code",
   "execution_count": 121,
   "id": "10c73c29",
   "metadata": {},
   "outputs": [
    {
     "name": "stdout",
     "output_type": "stream",
     "text": [
      "<class 'pandas.core.frame.DataFrame'>\n",
      "Int64Index: 203 entries, 0 to 202\n",
      "Data columns (total 11 columns):\n",
      " #   Column                            Non-Null Count  Dtype  \n",
      "---  ------                            --------------  -----  \n",
      " 0   Country                           203 non-null    object \n",
      " 1   Totals                            92 non-null     float64\n",
      " 2   Health Expenditure (% of GDP)     189 non-null    float64\n",
      " 3   GDP Per Capita                    188 non-null    float64\n",
      " 4   Gini Index                        153 non-null    float64\n",
      " 5   Education Expenditure (% of GDP)  177 non-null    float64\n",
      " 6   Migrant Population Proportion     202 non-null    float64\n",
      " 7   Air Pollution Exposure            191 non-null    float64\n",
      " 8   Population                        203 non-null    float64\n",
      " 9   Urban Population Proportion       202 non-null    float64\n",
      " 10  Ages 20-34 Population Proportion  189 non-null    float64\n",
      "dtypes: float64(10), object(1)\n",
      "memory usage: 19.0+ KB\n"
     ]
    }
   ],
   "source": [
    "df.info()"
   ]
  },
  {
   "cell_type": "markdown",
   "id": "63f7ce5d",
   "metadata": {},
   "source": [
    "Replace NaN values in Totals column with 0"
   ]
  },
  {
   "cell_type": "code",
   "execution_count": 122,
   "id": "dd7cea4d",
   "metadata": {},
   "outputs": [
    {
     "data": {
      "text/html": [
       "<div>\n",
       "<style scoped>\n",
       "    .dataframe tbody tr th:only-of-type {\n",
       "        vertical-align: middle;\n",
       "    }\n",
       "\n",
       "    .dataframe tbody tr th {\n",
       "        vertical-align: top;\n",
       "    }\n",
       "\n",
       "    .dataframe thead th {\n",
       "        text-align: right;\n",
       "    }\n",
       "</style>\n",
       "<table border=\"1\" class=\"dataframe\">\n",
       "  <thead>\n",
       "    <tr style=\"text-align: right;\">\n",
       "      <th></th>\n",
       "      <th>Country</th>\n",
       "      <th>Totals</th>\n",
       "      <th>Health Expenditure (% of GDP)</th>\n",
       "      <th>GDP Per Capita</th>\n",
       "      <th>Gini Index</th>\n",
       "      <th>Education Expenditure (% of GDP)</th>\n",
       "      <th>Migrant Population Proportion</th>\n",
       "      <th>Air Pollution Exposure</th>\n",
       "      <th>Population</th>\n",
       "      <th>Urban Population Proportion</th>\n",
       "      <th>Ages 20-34 Population Proportion</th>\n",
       "    </tr>\n",
       "  </thead>\n",
       "  <tbody>\n",
       "    <tr>\n",
       "      <th>0</th>\n",
       "      <td>Afghanistan</td>\n",
       "      <td>0.0</td>\n",
       "      <td>9.395727</td>\n",
       "      <td>1978.961579</td>\n",
       "      <td>NaN</td>\n",
       "      <td>3.21378</td>\n",
       "      <td>1.175547</td>\n",
       "      <td>56.910808</td>\n",
       "      <td>38928341.0</td>\n",
       "      <td>26.026</td>\n",
       "      <td>24.434028</td>\n",
       "    </tr>\n",
       "    <tr>\n",
       "      <th>1</th>\n",
       "      <td>Albania</td>\n",
       "      <td>0.0</td>\n",
       "      <td>5.262714</td>\n",
       "      <td>13295.410885</td>\n",
       "      <td>33.2</td>\n",
       "      <td>3.94576</td>\n",
       "      <td>1.989036</td>\n",
       "      <td>18.200603</td>\n",
       "      <td>2837743.0</td>\n",
       "      <td>62.112</td>\n",
       "      <td>24.187669</td>\n",
       "    </tr>\n",
       "    <tr>\n",
       "      <th>2</th>\n",
       "      <td>Algeria</td>\n",
       "      <td>0.0</td>\n",
       "      <td>6.218427</td>\n",
       "      <td>10681.679297</td>\n",
       "      <td>27.6</td>\n",
       "      <td>6.10036</td>\n",
       "      <td>0.611072</td>\n",
       "      <td>38.884011</td>\n",
       "      <td>43851043.0</td>\n",
       "      <td>73.733</td>\n",
       "      <td>23.491109</td>\n",
       "    </tr>\n",
       "    <tr>\n",
       "      <th>3</th>\n",
       "      <td>American Samoa</td>\n",
       "      <td>0.0</td>\n",
       "      <td>NaN</td>\n",
       "      <td>NaN</td>\n",
       "      <td>NaN</td>\n",
       "      <td>NaN</td>\n",
       "      <td>41.802009</td>\n",
       "      <td>12.473820</td>\n",
       "      <td>55197.0</td>\n",
       "      <td>87.153</td>\n",
       "      <td>NaN</td>\n",
       "    </tr>\n",
       "    <tr>\n",
       "      <th>4</th>\n",
       "      <td>Andorra</td>\n",
       "      <td>0.0</td>\n",
       "      <td>6.710331</td>\n",
       "      <td>NaN</td>\n",
       "      <td>NaN</td>\n",
       "      <td>3.15061</td>\n",
       "      <td>59.713649</td>\n",
       "      <td>10.307621</td>\n",
       "      <td>77265.0</td>\n",
       "      <td>87.916</td>\n",
       "      <td>NaN</td>\n",
       "    </tr>\n",
       "  </tbody>\n",
       "</table>\n",
       "</div>"
      ],
      "text/plain": [
       "          Country  Totals  Health Expenditure (% of GDP)  GDP Per Capita  \\\n",
       "0     Afghanistan     0.0                       9.395727     1978.961579   \n",
       "1         Albania     0.0                       5.262714    13295.410885   \n",
       "2         Algeria     0.0                       6.218427    10681.679297   \n",
       "3  American Samoa     0.0                            NaN             NaN   \n",
       "4         Andorra     0.0                       6.710331             NaN   \n",
       "\n",
       "   Gini Index  Education Expenditure (% of GDP)  \\\n",
       "0         NaN                           3.21378   \n",
       "1        33.2                           3.94576   \n",
       "2        27.6                           6.10036   \n",
       "3         NaN                               NaN   \n",
       "4         NaN                           3.15061   \n",
       "\n",
       "   Migrant Population Proportion  Air Pollution Exposure  Population  \\\n",
       "0                       1.175547               56.910808  38928341.0   \n",
       "1                       1.989036               18.200603   2837743.0   \n",
       "2                       0.611072               38.884011  43851043.0   \n",
       "3                      41.802009               12.473820     55197.0   \n",
       "4                      59.713649               10.307621     77265.0   \n",
       "\n",
       "   Urban Population Proportion  Ages 20-34 Population Proportion  \n",
       "0                       26.026                         24.434028  \n",
       "1                       62.112                         24.187669  \n",
       "2                       73.733                         23.491109  \n",
       "3                       87.153                               NaN  \n",
       "4                       87.916                               NaN  "
      ]
     },
     "execution_count": 122,
     "metadata": {},
     "output_type": "execute_result"
    }
   ],
   "source": [
    "totals_replace_dict = {np.nan: 0}\n",
    "df['Totals'] = df['Totals'].replace(totals_replace_dict)\n",
    "df.head()"
   ]
  },
  {
   "cell_type": "markdown",
   "id": "a445039f",
   "metadata": {},
   "source": [
    "Drop rows missing 4 or more features"
   ]
  },
  {
   "cell_type": "code",
   "execution_count": 123,
   "id": "72eea1ce",
   "metadata": {},
   "outputs": [
    {
     "data": {
      "text/html": [
       "<div>\n",
       "<style scoped>\n",
       "    .dataframe tbody tr th:only-of-type {\n",
       "        vertical-align: middle;\n",
       "    }\n",
       "\n",
       "    .dataframe tbody tr th {\n",
       "        vertical-align: top;\n",
       "    }\n",
       "\n",
       "    .dataframe thead th {\n",
       "        text-align: right;\n",
       "    }\n",
       "</style>\n",
       "<table border=\"1\" class=\"dataframe\">\n",
       "  <thead>\n",
       "    <tr style=\"text-align: right;\">\n",
       "      <th></th>\n",
       "      <th>Country</th>\n",
       "      <th>Totals</th>\n",
       "      <th>Health Expenditure (% of GDP)</th>\n",
       "      <th>GDP Per Capita</th>\n",
       "      <th>Gini Index</th>\n",
       "      <th>Education Expenditure (% of GDP)</th>\n",
       "      <th>Migrant Population Proportion</th>\n",
       "      <th>Air Pollution Exposure</th>\n",
       "      <th>Population</th>\n",
       "      <th>Urban Population Proportion</th>\n",
       "      <th>Ages 20-34 Population Proportion</th>\n",
       "    </tr>\n",
       "  </thead>\n",
       "  <tbody>\n",
       "    <tr>\n",
       "      <th>0</th>\n",
       "      <td>Afghanistan</td>\n",
       "      <td>0.0</td>\n",
       "      <td>9.395727</td>\n",
       "      <td>1978.961579</td>\n",
       "      <td>NaN</td>\n",
       "      <td>3.21378</td>\n",
       "      <td>1.175547</td>\n",
       "      <td>56.910808</td>\n",
       "      <td>38928341.0</td>\n",
       "      <td>26.026</td>\n",
       "      <td>24.434028</td>\n",
       "    </tr>\n",
       "    <tr>\n",
       "      <th>1</th>\n",
       "      <td>Albania</td>\n",
       "      <td>0.0</td>\n",
       "      <td>5.262714</td>\n",
       "      <td>13295.410885</td>\n",
       "      <td>33.2</td>\n",
       "      <td>3.94576</td>\n",
       "      <td>1.989036</td>\n",
       "      <td>18.200603</td>\n",
       "      <td>2837743.0</td>\n",
       "      <td>62.112</td>\n",
       "      <td>24.187669</td>\n",
       "    </tr>\n",
       "    <tr>\n",
       "      <th>2</th>\n",
       "      <td>Algeria</td>\n",
       "      <td>0.0</td>\n",
       "      <td>6.218427</td>\n",
       "      <td>10681.679297</td>\n",
       "      <td>27.6</td>\n",
       "      <td>6.10036</td>\n",
       "      <td>0.611072</td>\n",
       "      <td>38.884011</td>\n",
       "      <td>43851043.0</td>\n",
       "      <td>73.733</td>\n",
       "      <td>23.491109</td>\n",
       "    </tr>\n",
       "    <tr>\n",
       "      <th>3</th>\n",
       "      <td>Andorra</td>\n",
       "      <td>0.0</td>\n",
       "      <td>6.710331</td>\n",
       "      <td>NaN</td>\n",
       "      <td>NaN</td>\n",
       "      <td>3.15061</td>\n",
       "      <td>59.713649</td>\n",
       "      <td>10.307621</td>\n",
       "      <td>77265.0</td>\n",
       "      <td>87.916</td>\n",
       "      <td>NaN</td>\n",
       "    </tr>\n",
       "    <tr>\n",
       "      <th>4</th>\n",
       "      <td>Angola</td>\n",
       "      <td>0.0</td>\n",
       "      <td>2.549005</td>\n",
       "      <td>6198.083841</td>\n",
       "      <td>51.3</td>\n",
       "      <td>1.82118</td>\n",
       "      <td>0.427005</td>\n",
       "      <td>32.388505</td>\n",
       "      <td>32866268.0</td>\n",
       "      <td>66.825</td>\n",
       "      <td>22.352392</td>\n",
       "    </tr>\n",
       "  </tbody>\n",
       "</table>\n",
       "</div>"
      ],
      "text/plain": [
       "       Country  Totals  Health Expenditure (% of GDP)  GDP Per Capita  \\\n",
       "0  Afghanistan     0.0                       9.395727     1978.961579   \n",
       "1      Albania     0.0                       5.262714    13295.410885   \n",
       "2      Algeria     0.0                       6.218427    10681.679297   \n",
       "3      Andorra     0.0                       6.710331             NaN   \n",
       "4       Angola     0.0                       2.549005     6198.083841   \n",
       "\n",
       "   Gini Index  Education Expenditure (% of GDP)  \\\n",
       "0         NaN                           3.21378   \n",
       "1        33.2                           3.94576   \n",
       "2        27.6                           6.10036   \n",
       "3         NaN                           3.15061   \n",
       "4        51.3                           1.82118   \n",
       "\n",
       "   Migrant Population Proportion  Air Pollution Exposure  Population  \\\n",
       "0                       1.175547               56.910808  38928341.0   \n",
       "1                       1.989036               18.200603   2837743.0   \n",
       "2                       0.611072               38.884011  43851043.0   \n",
       "3                      59.713649               10.307621     77265.0   \n",
       "4                       0.427005               32.388505  32866268.0   \n",
       "\n",
       "   Urban Population Proportion  Ages 20-34 Population Proportion  \n",
       "0                       26.026                         24.434028  \n",
       "1                       62.112                         24.187669  \n",
       "2                       73.733                         23.491109  \n",
       "3                       87.916                               NaN  \n",
       "4                       66.825                         22.352392  "
      ]
     },
     "execution_count": 123,
     "metadata": {},
     "output_type": "execute_result"
    }
   ],
   "source": [
    "df.drop(index=df[df.isna().sum(axis=1)>=4].index, inplace=True)\n",
    "df.reset_index(drop=True, inplace=True)\n",
    "df.head()"
   ]
  },
  {
   "cell_type": "markdown",
   "id": "40c9eb09",
   "metadata": {},
   "source": [
    "Impute missing values"
   ]
  },
  {
   "cell_type": "code",
   "execution_count": 124,
   "id": "e4ca845f",
   "metadata": {},
   "outputs": [],
   "source": [
    "impute_df = df.drop(columns=['Country'])\n",
    "impute_x = impute_df.drop(columns=['Totals'])\n",
    "impute_y = impute_df['Totals']\n",
    "impute_x_train, impute_x_test, impute_y_train, impute_y_test = train_test_split(impute_x, impute_y\n",
    "                                                                                , random_state=15, test_size=.3)\n",
    "impute_ss = StandardScaler()\n",
    "impute_ss.fit(impute_x_train)\n",
    "impute_x_train = pd.DataFrame(impute_ss.transform(impute_x_train), columns=impute_x_train.columns)\n",
    "impute_x_test = pd.DataFrame(impute_ss.transform(impute_x_test), columns=impute_x_test.columns)\n",
    "\n",
    "train_imputer = KNNImputer()\n",
    "impute_x_train = pd.DataFrame(train_imputer.fit_transform(impute_x_train), columns=impute_x.columns)\n",
    "impute_x_train = pd.DataFrame(impute_ss.inverse_transform(impute_x_train), columns = impute_x_train.columns)\n",
    "impute_x_train.index = impute_y_train.index\n",
    "\n",
    "test_imputer = KNNImputer()\n",
    "impute_x_test = pd.DataFrame(test_imputer.fit_transform(impute_x_test), columns=impute_x.columns)\n",
    "impute_x_test = pd.DataFrame(impute_ss.inverse_transform(impute_x_test), columns = impute_x_test.columns)\n",
    "impute_x_test.index = impute_y_test.index\n",
    "\n",
    "scrubbed_df = pd.concat([impute_x_train, impute_x_test], axis=0)\n",
    "scrubbed_df.sort_index(inplace=True)\n",
    "scrubbed_df['Medals'] = df['Totals']"
   ]
  },
  {
   "cell_type": "markdown",
   "id": "17e968a5",
   "metadata": {},
   "source": [
    "Convert number of medals won varaible into medals won class variable"
   ]
  },
  {
   "cell_type": "code",
   "execution_count": 125,
   "id": "ef5fae80",
   "metadata": {},
   "outputs": [
    {
     "data": {
      "text/html": [
       "<div>\n",
       "<style scoped>\n",
       "    .dataframe tbody tr th:only-of-type {\n",
       "        vertical-align: middle;\n",
       "    }\n",
       "\n",
       "    .dataframe tbody tr th {\n",
       "        vertical-align: top;\n",
       "    }\n",
       "\n",
       "    .dataframe thead th {\n",
       "        text-align: right;\n",
       "    }\n",
       "</style>\n",
       "<table border=\"1\" class=\"dataframe\">\n",
       "  <thead>\n",
       "    <tr style=\"text-align: right;\">\n",
       "      <th></th>\n",
       "      <th>Health Expenditure (% of GDP)</th>\n",
       "      <th>GDP Per Capita</th>\n",
       "      <th>Gini Index</th>\n",
       "      <th>Education Expenditure (% of GDP)</th>\n",
       "      <th>Migrant Population Proportion</th>\n",
       "      <th>Air Pollution Exposure</th>\n",
       "      <th>Population</th>\n",
       "      <th>Urban Population Proportion</th>\n",
       "      <th>Ages 20-34 Population Proportion</th>\n",
       "      <th>Medals</th>\n",
       "    </tr>\n",
       "  </thead>\n",
       "  <tbody>\n",
       "    <tr>\n",
       "      <th>0</th>\n",
       "      <td>9.395727</td>\n",
       "      <td>1978.961579</td>\n",
       "      <td>40.64</td>\n",
       "      <td>3.21378</td>\n",
       "      <td>1.175547</td>\n",
       "      <td>56.910808</td>\n",
       "      <td>38928341.0</td>\n",
       "      <td>26.026</td>\n",
       "      <td>24.434028</td>\n",
       "      <td>0</td>\n",
       "    </tr>\n",
       "    <tr>\n",
       "      <th>1</th>\n",
       "      <td>5.262714</td>\n",
       "      <td>13295.410885</td>\n",
       "      <td>33.20</td>\n",
       "      <td>3.94576</td>\n",
       "      <td>1.989036</td>\n",
       "      <td>18.200603</td>\n",
       "      <td>2837743.0</td>\n",
       "      <td>62.112</td>\n",
       "      <td>24.187669</td>\n",
       "      <td>0</td>\n",
       "    </tr>\n",
       "    <tr>\n",
       "      <th>2</th>\n",
       "      <td>6.218427</td>\n",
       "      <td>10681.679297</td>\n",
       "      <td>27.60</td>\n",
       "      <td>6.10036</td>\n",
       "      <td>0.611072</td>\n",
       "      <td>38.884011</td>\n",
       "      <td>43851043.0</td>\n",
       "      <td>73.733</td>\n",
       "      <td>23.491109</td>\n",
       "      <td>0</td>\n",
       "    </tr>\n",
       "    <tr>\n",
       "      <th>3</th>\n",
       "      <td>6.710331</td>\n",
       "      <td>56175.341171</td>\n",
       "      <td>32.34</td>\n",
       "      <td>3.15061</td>\n",
       "      <td>59.713649</td>\n",
       "      <td>10.307621</td>\n",
       "      <td>77265.0</td>\n",
       "      <td>87.916</td>\n",
       "      <td>22.409830</td>\n",
       "      <td>0</td>\n",
       "    </tr>\n",
       "    <tr>\n",
       "      <th>4</th>\n",
       "      <td>2.549005</td>\n",
       "      <td>6198.083841</td>\n",
       "      <td>51.30</td>\n",
       "      <td>1.82118</td>\n",
       "      <td>0.427005</td>\n",
       "      <td>32.388505</td>\n",
       "      <td>32866268.0</td>\n",
       "      <td>66.825</td>\n",
       "      <td>22.352392</td>\n",
       "      <td>0</td>\n",
       "    </tr>\n",
       "  </tbody>\n",
       "</table>\n",
       "</div>"
      ],
      "text/plain": [
       "   Health Expenditure (% of GDP)  GDP Per Capita  Gini Index  \\\n",
       "0                       9.395727     1978.961579       40.64   \n",
       "1                       5.262714    13295.410885       33.20   \n",
       "2                       6.218427    10681.679297       27.60   \n",
       "3                       6.710331    56175.341171       32.34   \n",
       "4                       2.549005     6198.083841       51.30   \n",
       "\n",
       "   Education Expenditure (% of GDP)  Migrant Population Proportion  \\\n",
       "0                           3.21378                       1.175547   \n",
       "1                           3.94576                       1.989036   \n",
       "2                           6.10036                       0.611072   \n",
       "3                           3.15061                      59.713649   \n",
       "4                           1.82118                       0.427005   \n",
       "\n",
       "   Air Pollution Exposure  Population  Urban Population Proportion  \\\n",
       "0               56.910808  38928341.0                       26.026   \n",
       "1               18.200603   2837743.0                       62.112   \n",
       "2               38.884011  43851043.0                       73.733   \n",
       "3               10.307621     77265.0                       87.916   \n",
       "4               32.388505  32866268.0                       66.825   \n",
       "\n",
       "   Ages 20-34 Population Proportion  Medals  \n",
       "0                         24.434028       0  \n",
       "1                         24.187669       0  \n",
       "2                         23.491109       0  \n",
       "3                         22.409830       0  \n",
       "4                         22.352392       0  "
      ]
     },
     "execution_count": 125,
     "metadata": {},
     "output_type": "execute_result"
    }
   ],
   "source": [
    "scrubbed_df['Medals'] = scrubbed_df['Medals'].astype(bool).astype(int)\n",
    "scrubbed_df.head()"
   ]
  },
  {
   "cell_type": "markdown",
   "id": "19862ccc",
   "metadata": {},
   "source": [
    "Confirm data now scrubbed with scrubbed_df.info()"
   ]
  },
  {
   "cell_type": "code",
   "execution_count": 126,
   "id": "a6bec334",
   "metadata": {},
   "outputs": [
    {
     "name": "stdout",
     "output_type": "stream",
     "text": [
      "<class 'pandas.core.frame.DataFrame'>\n",
      "Int64Index: 193 entries, 0 to 192\n",
      "Data columns (total 10 columns):\n",
      " #   Column                            Non-Null Count  Dtype  \n",
      "---  ------                            --------------  -----  \n",
      " 0   Health Expenditure (% of GDP)     193 non-null    float64\n",
      " 1   GDP Per Capita                    193 non-null    float64\n",
      " 2   Gini Index                        193 non-null    float64\n",
      " 3   Education Expenditure (% of GDP)  193 non-null    float64\n",
      " 4   Migrant Population Proportion     193 non-null    float64\n",
      " 5   Air Pollution Exposure            193 non-null    float64\n",
      " 6   Population                        193 non-null    float64\n",
      " 7   Urban Population Proportion       193 non-null    float64\n",
      " 8   Ages 20-34 Population Proportion  193 non-null    float64\n",
      " 9   Medals                            193 non-null    int64  \n",
      "dtypes: float64(9), int64(1)\n",
      "memory usage: 16.6 KB\n"
     ]
    }
   ],
   "source": [
    "scrubbed_df.info()"
   ]
  },
  {
   "cell_type": "markdown",
   "id": "92d679fc",
   "metadata": {},
   "source": [
    "# Explore Data"
   ]
  },
  {
   "cell_type": "markdown",
   "id": "917c3865",
   "metadata": {},
   "source": [
    "Build Isolation Forest Model"
   ]
  },
  {
   "cell_type": "code",
   "execution_count": 127,
   "id": "c95a1961",
   "metadata": {},
   "outputs": [
    {
     "data": {
      "text/html": [
       "<div>\n",
       "<style scoped>\n",
       "    .dataframe tbody tr th:only-of-type {\n",
       "        vertical-align: middle;\n",
       "    }\n",
       "\n",
       "    .dataframe tbody tr th {\n",
       "        vertical-align: top;\n",
       "    }\n",
       "\n",
       "    .dataframe thead th {\n",
       "        text-align: right;\n",
       "    }\n",
       "</style>\n",
       "<table border=\"1\" class=\"dataframe\">\n",
       "  <thead>\n",
       "    <tr style=\"text-align: right;\">\n",
       "      <th></th>\n",
       "      <th>Health Expenditure (% of GDP)</th>\n",
       "      <th>GDP Per Capita</th>\n",
       "      <th>Gini Index</th>\n",
       "      <th>Education Expenditure (% of GDP)</th>\n",
       "      <th>Migrant Population Proportion</th>\n",
       "      <th>Air Pollution Exposure</th>\n",
       "      <th>Population</th>\n",
       "      <th>Urban Population Proportion</th>\n",
       "      <th>Ages 20-34 Population Proportion</th>\n",
       "    </tr>\n",
       "  </thead>\n",
       "  <tbody>\n",
       "    <tr>\n",
       "      <th>1</th>\n",
       "      <td>-1.5</td>\n",
       "      <td>3.2</td>\n",
       "      <td>-0.6</td>\n",
       "      <td>-0.6</td>\n",
       "      <td>4.2</td>\n",
       "      <td>3.2</td>\n",
       "      <td>-0.2</td>\n",
       "      <td>1.8</td>\n",
       "      <td>3.7</td>\n",
       "    </tr>\n",
       "    <tr>\n",
       "      <th>10</th>\n",
       "      <td>-0.9</td>\n",
       "      <td>1.1</td>\n",
       "      <td>-0.7</td>\n",
       "      <td>-1.1</td>\n",
       "      <td>2.7</td>\n",
       "      <td>2.1</td>\n",
       "      <td>-0.3</td>\n",
       "      <td>1.4</td>\n",
       "      <td>2.7</td>\n",
       "    </tr>\n",
       "    <tr>\n",
       "      <th>24</th>\n",
       "      <td>1.8</td>\n",
       "      <td>-0.0</td>\n",
       "      <td>-0.4</td>\n",
       "      <td>5.0</td>\n",
       "      <td>-0.6</td>\n",
       "      <td>-0.5</td>\n",
       "      <td>-0.2</td>\n",
       "      <td>0.9</td>\n",
       "      <td>-0.8</td>\n",
       "    </tr>\n",
       "    <tr>\n",
       "      <th>30</th>\n",
       "      <td>-0.4</td>\n",
       "      <td>4.4</td>\n",
       "      <td>-0.3</td>\n",
       "      <td>-0.3</td>\n",
       "      <td>2.2</td>\n",
       "      <td>-1.0</td>\n",
       "      <td>-0.3</td>\n",
       "      <td>1.5</td>\n",
       "      <td>-0.4</td>\n",
       "    </tr>\n",
       "    <tr>\n",
       "      <th>44</th>\n",
       "      <td>-0.5</td>\n",
       "      <td>1.5</td>\n",
       "      <td>-0.4</td>\n",
       "      <td>1.3</td>\n",
       "      <td>4.1</td>\n",
       "      <td>1.6</td>\n",
       "      <td>-0.2</td>\n",
       "      <td>1.9</td>\n",
       "      <td>-1.0</td>\n",
       "    </tr>\n",
       "    <tr>\n",
       "      <th>106</th>\n",
       "      <td>-0.8</td>\n",
       "      <td>2.3</td>\n",
       "      <td>-1.7</td>\n",
       "      <td>-0.7</td>\n",
       "      <td>5.1</td>\n",
       "      <td>0.6</td>\n",
       "      <td>-0.2</td>\n",
       "      <td>1.3</td>\n",
       "      <td>3.7</td>\n",
       "    </tr>\n",
       "    <tr>\n",
       "      <th>112</th>\n",
       "      <td>-1.1</td>\n",
       "      <td>-0.6</td>\n",
       "      <td>-0.3</td>\n",
       "      <td>-0.5</td>\n",
       "      <td>-0.6</td>\n",
       "      <td>3.1</td>\n",
       "      <td>7.8</td>\n",
       "      <td>-1.0</td>\n",
       "      <td>0.6</td>\n",
       "    </tr>\n",
       "  </tbody>\n",
       "</table>\n",
       "</div>"
      ],
      "text/plain": [
       "     Health Expenditure (% of GDP)  GDP Per Capita  Gini Index  \\\n",
       "1                             -1.5             3.2        -0.6   \n",
       "10                            -0.9             1.1        -0.7   \n",
       "24                             1.8            -0.0        -0.4   \n",
       "30                            -0.4             4.4        -0.3   \n",
       "44                            -0.5             1.5        -0.4   \n",
       "106                           -0.8             2.3        -1.7   \n",
       "112                           -1.1            -0.6        -0.3   \n",
       "\n",
       "     Education Expenditure (% of GDP)  Migrant Population Proportion  \\\n",
       "1                                -0.6                            4.2   \n",
       "10                               -1.1                            2.7   \n",
       "24                                5.0                           -0.6   \n",
       "30                               -0.3                            2.2   \n",
       "44                                1.3                            4.1   \n",
       "106                              -0.7                            5.1   \n",
       "112                              -0.5                           -0.6   \n",
       "\n",
       "     Air Pollution Exposure  Population  Urban Population Proportion  \\\n",
       "1                       3.2        -0.2                          1.8   \n",
       "10                      2.1        -0.3                          1.4   \n",
       "24                     -0.5        -0.2                          0.9   \n",
       "30                     -1.0        -0.3                          1.5   \n",
       "44                      1.6        -0.2                          1.9   \n",
       "106                     0.6        -0.2                          1.3   \n",
       "112                     3.1         7.8                         -1.0   \n",
       "\n",
       "     Ages 20-34 Population Proportion  \n",
       "1                                 3.7  \n",
       "10                                2.7  \n",
       "24                               -0.8  \n",
       "30                               -0.4  \n",
       "44                               -1.0  \n",
       "106                               3.7  \n",
       "112                               0.6  "
      ]
     },
     "execution_count": 127,
     "metadata": {},
     "output_type": "execute_result"
    }
   ],
   "source": [
    "isf_x = scrubbed_df.drop(columns=['Medals'])\n",
    "isf_y = scrubbed_df['Medals']\n",
    "isf_x_train, isf_x_test, isf_y_train, isf_y_test = train_test_split(isf_x, isf_y, random_state=15, test_size=.3)\n",
    "\n",
    "\n",
    "isf_ss = StandardScaler()\n",
    "ss_isf_x_train = pd.DataFrame(isf_ss.fit_transform(isf_x_train), columns=isf_x_train.columns)\n",
    "isolation_forest = IsolationForest(contamination=.05)\n",
    "ss_isf_x_train['Outlier'] = isolation_forest.fit_predict(ss_isf_x_train)\n",
    "ss_isf_x_train[ss_isf_x_train['Outlier']==-1].round(decimals=1).drop(columns='Outlier')"
   ]
  },
  {
   "cell_type": "markdown",
   "id": "409850ef",
   "metadata": {},
   "source": [
    "Replace all dataset values greater than 4 standard deviations from the mean with the 4 standard deviation value"
   ]
  },
  {
   "cell_type": "code",
   "execution_count": 128,
   "id": "1dba77bf",
   "metadata": {},
   "outputs": [
    {
     "data": {
      "text/html": [
       "<div>\n",
       "<style scoped>\n",
       "    .dataframe tbody tr th:only-of-type {\n",
       "        vertical-align: middle;\n",
       "    }\n",
       "\n",
       "    .dataframe tbody tr th {\n",
       "        vertical-align: top;\n",
       "    }\n",
       "\n",
       "    .dataframe thead th {\n",
       "        text-align: right;\n",
       "    }\n",
       "</style>\n",
       "<table border=\"1\" class=\"dataframe\">\n",
       "  <thead>\n",
       "    <tr style=\"text-align: right;\">\n",
       "      <th></th>\n",
       "      <th>Health Expenditure (% of GDP)</th>\n",
       "      <th>GDP Per Capita</th>\n",
       "      <th>Gini Index</th>\n",
       "      <th>Education Expenditure (% of GDP)</th>\n",
       "      <th>Migrant Population Proportion</th>\n",
       "      <th>Air Pollution Exposure</th>\n",
       "      <th>Population</th>\n",
       "      <th>Urban Population Proportion</th>\n",
       "      <th>Ages 20-34 Population Proportion</th>\n",
       "      <th>Medals</th>\n",
       "    </tr>\n",
       "  </thead>\n",
       "  <tbody>\n",
       "    <tr>\n",
       "      <th>0</th>\n",
       "      <td>9.395727</td>\n",
       "      <td>1978.961579</td>\n",
       "      <td>40.64</td>\n",
       "      <td>3.21378</td>\n",
       "      <td>1.175547</td>\n",
       "      <td>56.910808</td>\n",
       "      <td>38928341.0</td>\n",
       "      <td>26.026</td>\n",
       "      <td>24.434028</td>\n",
       "      <td>0</td>\n",
       "    </tr>\n",
       "    <tr>\n",
       "      <th>1</th>\n",
       "      <td>5.262714</td>\n",
       "      <td>13295.410885</td>\n",
       "      <td>33.20</td>\n",
       "      <td>3.94576</td>\n",
       "      <td>1.989036</td>\n",
       "      <td>18.200603</td>\n",
       "      <td>2837743.0</td>\n",
       "      <td>62.112</td>\n",
       "      <td>24.187669</td>\n",
       "      <td>0</td>\n",
       "    </tr>\n",
       "    <tr>\n",
       "      <th>2</th>\n",
       "      <td>6.218427</td>\n",
       "      <td>10681.679297</td>\n",
       "      <td>27.60</td>\n",
       "      <td>6.10036</td>\n",
       "      <td>0.611072</td>\n",
       "      <td>38.884011</td>\n",
       "      <td>43851043.0</td>\n",
       "      <td>73.733</td>\n",
       "      <td>23.491109</td>\n",
       "      <td>0</td>\n",
       "    </tr>\n",
       "    <tr>\n",
       "      <th>3</th>\n",
       "      <td>6.710331</td>\n",
       "      <td>56175.341171</td>\n",
       "      <td>32.34</td>\n",
       "      <td>3.15061</td>\n",
       "      <td>59.713649</td>\n",
       "      <td>10.307621</td>\n",
       "      <td>77265.0</td>\n",
       "      <td>87.916</td>\n",
       "      <td>22.409830</td>\n",
       "      <td>0</td>\n",
       "    </tr>\n",
       "    <tr>\n",
       "      <th>4</th>\n",
       "      <td>2.549005</td>\n",
       "      <td>6198.083841</td>\n",
       "      <td>51.30</td>\n",
       "      <td>1.82118</td>\n",
       "      <td>0.427005</td>\n",
       "      <td>32.388505</td>\n",
       "      <td>32866268.0</td>\n",
       "      <td>66.825</td>\n",
       "      <td>22.352392</td>\n",
       "      <td>0</td>\n",
       "    </tr>\n",
       "  </tbody>\n",
       "</table>\n",
       "</div>"
      ],
      "text/plain": [
       "   Health Expenditure (% of GDP)  GDP Per Capita  Gini Index  \\\n",
       "0                       9.395727     1978.961579       40.64   \n",
       "1                       5.262714    13295.410885       33.20   \n",
       "2                       6.218427    10681.679297       27.60   \n",
       "3                       6.710331    56175.341171       32.34   \n",
       "4                       2.549005     6198.083841       51.30   \n",
       "\n",
       "   Education Expenditure (% of GDP)  Migrant Population Proportion  \\\n",
       "0                           3.21378                       1.175547   \n",
       "1                           3.94576                       1.989036   \n",
       "2                           6.10036                       0.611072   \n",
       "3                           3.15061                      59.713649   \n",
       "4                           1.82118                       0.427005   \n",
       "\n",
       "   Air Pollution Exposure  Population  Urban Population Proportion  \\\n",
       "0               56.910808  38928341.0                       26.026   \n",
       "1               18.200603   2837743.0                       62.112   \n",
       "2               38.884011  43851043.0                       73.733   \n",
       "3               10.307621     77265.0                       87.916   \n",
       "4               32.388505  32866268.0                       66.825   \n",
       "\n",
       "   Ages 20-34 Population Proportion  Medals  \n",
       "0                         24.434028       0  \n",
       "1                         24.187669       0  \n",
       "2                         23.491109       0  \n",
       "3                         22.409830       0  \n",
       "4                         22.352392       0  "
      ]
     },
     "execution_count": 128,
     "metadata": {},
     "output_type": "execute_result"
    }
   ],
   "source": [
    "replacement_x = scrubbed_df.drop(columns=['Medals'])\n",
    "replacement_y = scrubbed_df['Medals']\n",
    "replacement_x_train, replacement_x_test, replacement_y_train, replacement_y_test = train_test_split(\n",
    "    replacement_x, replacement_y, random_state=15, test_size=.3)\n",
    "replacement_train_index = replacement_x_train.index\n",
    "replacement_test_index = replacement_x_test.index\n",
    "\n",
    "replacement_ss = StandardScaler()\n",
    "replacement_ss.fit(replacement_x_train)\n",
    "replacement_x_train = pd.DataFrame(replacement_ss.transform(replacement_x_train), columns=replacement_x_train.columns)\n",
    "replacement_x_test = pd.DataFrame(replacement_ss.transform(replacement_x_test), columns=replacement_x_test.columns)\n",
    "\n",
    "def replace_outliers(row):\n",
    "    output_row = []\n",
    "    for val in row.values:\n",
    "        if val > 4:\n",
    "            output_row.append(4)\n",
    "        elif val < -4:\n",
    "            output_row.append(-4)\n",
    "        else:\n",
    "            output_row.append(val)\n",
    "    return pd.Series(output_row, index=row.index)\n",
    "            \n",
    "replacement_x_train = replacement_x_train.apply(replace_outliers, axis=1)\n",
    "replacement_x_train = pd.DataFrame(replacement_ss.inverse_transform(replacement_x_train), \n",
    "                                   columns=replacement_x_train.columns, index=replacement_train_index)\n",
    "\n",
    "replacement_x_test = replacement_x_test.apply(replace_outliers, axis=1)\n",
    "replacement_x_test = pd.DataFrame(replacement_ss.inverse_transform(replacement_x_test), \n",
    "                                   columns=replacement_x_test.columns, index=replacement_test_index)\n",
    "\n",
    "scrubbed_df = pd.concat([replacement_x_train, replacement_x_test])\n",
    "scrubbed_df.sort_index(inplace=True)\n",
    "scrubbed_df['Medals'] = replacement_y\n",
    "scrubbed_df.head()"
   ]
  },
  {
   "cell_type": "markdown",
   "id": "513028f6",
   "metadata": {},
   "source": [
    "Calculate descriptive statistics for each feature in scrubbed_df"
   ]
  },
  {
   "cell_type": "code",
   "execution_count": 129,
   "id": "502054be",
   "metadata": {},
   "outputs": [
    {
     "data": {
      "text/html": [
       "<div>\n",
       "<style scoped>\n",
       "    .dataframe tbody tr th:only-of-type {\n",
       "        vertical-align: middle;\n",
       "    }\n",
       "\n",
       "    .dataframe tbody tr th {\n",
       "        vertical-align: top;\n",
       "    }\n",
       "\n",
       "    .dataframe thead th {\n",
       "        text-align: right;\n",
       "    }\n",
       "</style>\n",
       "<table border=\"1\" class=\"dataframe\">\n",
       "  <thead>\n",
       "    <tr style=\"text-align: right;\">\n",
       "      <th></th>\n",
       "      <th>Health Expenditure (% of GDP)</th>\n",
       "      <th>GDP Per Capita</th>\n",
       "      <th>Gini Index</th>\n",
       "      <th>Education Expenditure (% of GDP)</th>\n",
       "      <th>Migrant Population Proportion</th>\n",
       "      <th>Air Pollution Exposure</th>\n",
       "      <th>Population</th>\n",
       "      <th>Urban Population Proportion</th>\n",
       "      <th>Ages 20-34 Population Proportion</th>\n",
       "      <th>Medals</th>\n",
       "    </tr>\n",
       "  </thead>\n",
       "  <tbody>\n",
       "    <tr>\n",
       "      <th>count</th>\n",
       "      <td>193.000000</td>\n",
       "      <td>193.000000</td>\n",
       "      <td>193.000000</td>\n",
       "      <td>193.000000</td>\n",
       "      <td>193.000000</td>\n",
       "      <td>193.000000</td>\n",
       "      <td>1.930000e+02</td>\n",
       "      <td>193.000000</td>\n",
       "      <td>193.000000</td>\n",
       "      <td>193.000000</td>\n",
       "    </tr>\n",
       "    <tr>\n",
       "      <th>mean</th>\n",
       "      <td>6.586354</td>\n",
       "      <td>19920.396340</td>\n",
       "      <td>37.710570</td>\n",
       "      <td>4.439209</td>\n",
       "      <td>9.010892</td>\n",
       "      <td>27.422076</td>\n",
       "      <td>3.301634e+07</td>\n",
       "      <td>59.698886</td>\n",
       "      <td>23.136350</td>\n",
       "      <td>0.471503</td>\n",
       "    </tr>\n",
       "    <tr>\n",
       "      <th>std</th>\n",
       "      <td>2.795532</td>\n",
       "      <td>20293.234967</td>\n",
       "      <td>7.084946</td>\n",
       "      <td>1.815966</td>\n",
       "      <td>13.286797</td>\n",
       "      <td>18.764016</td>\n",
       "      <td>8.544769e+07</td>\n",
       "      <td>23.202675</td>\n",
       "      <td>3.743198</td>\n",
       "      <td>0.500486</td>\n",
       "    </tr>\n",
       "    <tr>\n",
       "      <th>min</th>\n",
       "      <td>2.138482</td>\n",
       "      <td>731.063230</td>\n",
       "      <td>24.600000</td>\n",
       "      <td>1.324960</td>\n",
       "      <td>0.071076</td>\n",
       "      <td>5.861331</td>\n",
       "      <td>1.083400e+04</td>\n",
       "      <td>13.345000</td>\n",
       "      <td>14.989765</td>\n",
       "      <td>0.000000</td>\n",
       "    </tr>\n",
       "    <tr>\n",
       "      <th>25%</th>\n",
       "      <td>4.471785</td>\n",
       "      <td>4916.721381</td>\n",
       "      <td>32.800000</td>\n",
       "      <td>3.234370</td>\n",
       "      <td>1.251345</td>\n",
       "      <td>13.909543</td>\n",
       "      <td>2.142252e+06</td>\n",
       "      <td>42.198000</td>\n",
       "      <td>20.593360</td>\n",
       "      <td>0.000000</td>\n",
       "    </tr>\n",
       "    <tr>\n",
       "      <th>50%</th>\n",
       "      <td>6.330850</td>\n",
       "      <td>12377.017293</td>\n",
       "      <td>36.800000</td>\n",
       "      <td>4.163390</td>\n",
       "      <td>3.682771</td>\n",
       "      <td>22.196055</td>\n",
       "      <td>8.917205e+06</td>\n",
       "      <td>59.453000</td>\n",
       "      <td>23.484794</td>\n",
       "      <td>0.000000</td>\n",
       "    </tr>\n",
       "    <tr>\n",
       "      <th>75%</th>\n",
       "      <td>8.253421</td>\n",
       "      <td>28832.623149</td>\n",
       "      <td>41.600000</td>\n",
       "      <td>5.262050</td>\n",
       "      <td>11.695683</td>\n",
       "      <td>35.557453</td>\n",
       "      <td>2.913681e+07</td>\n",
       "      <td>78.297000</td>\n",
       "      <td>24.993606</td>\n",
       "      <td>1.000000</td>\n",
       "    </tr>\n",
       "    <tr>\n",
       "      <th>max</th>\n",
       "      <td>17.191594</td>\n",
       "      <td>101279.202067</td>\n",
       "      <td>63.000000</td>\n",
       "      <td>11.147573</td>\n",
       "      <td>71.851801</td>\n",
       "      <td>99.734374</td>\n",
       "      <td>7.277118e+08</td>\n",
       "      <td>100.000000</td>\n",
       "      <td>38.605706</td>\n",
       "      <td>1.000000</td>\n",
       "    </tr>\n",
       "  </tbody>\n",
       "</table>\n",
       "</div>"
      ],
      "text/plain": [
       "       Health Expenditure (% of GDP)  GDP Per Capita  Gini Index  \\\n",
       "count                     193.000000      193.000000  193.000000   \n",
       "mean                        6.586354    19920.396340   37.710570   \n",
       "std                         2.795532    20293.234967    7.084946   \n",
       "min                         2.138482      731.063230   24.600000   \n",
       "25%                         4.471785     4916.721381   32.800000   \n",
       "50%                         6.330850    12377.017293   36.800000   \n",
       "75%                         8.253421    28832.623149   41.600000   \n",
       "max                        17.191594   101279.202067   63.000000   \n",
       "\n",
       "       Education Expenditure (% of GDP)  Migrant Population Proportion  \\\n",
       "count                        193.000000                     193.000000   \n",
       "mean                           4.439209                       9.010892   \n",
       "std                            1.815966                      13.286797   \n",
       "min                            1.324960                       0.071076   \n",
       "25%                            3.234370                       1.251345   \n",
       "50%                            4.163390                       3.682771   \n",
       "75%                            5.262050                      11.695683   \n",
       "max                           11.147573                      71.851801   \n",
       "\n",
       "       Air Pollution Exposure    Population  Urban Population Proportion  \\\n",
       "count              193.000000  1.930000e+02                   193.000000   \n",
       "mean                27.422076  3.301634e+07                    59.698886   \n",
       "std                 18.764016  8.544769e+07                    23.202675   \n",
       "min                  5.861331  1.083400e+04                    13.345000   \n",
       "25%                 13.909543  2.142252e+06                    42.198000   \n",
       "50%                 22.196055  8.917205e+06                    59.453000   \n",
       "75%                 35.557453  2.913681e+07                    78.297000   \n",
       "max                 99.734374  7.277118e+08                   100.000000   \n",
       "\n",
       "       Ages 20-34 Population Proportion      Medals  \n",
       "count                        193.000000  193.000000  \n",
       "mean                          23.136350    0.471503  \n",
       "std                            3.743198    0.500486  \n",
       "min                           14.989765    0.000000  \n",
       "25%                           20.593360    0.000000  \n",
       "50%                           23.484794    0.000000  \n",
       "75%                           24.993606    1.000000  \n",
       "max                           38.605706    1.000000  "
      ]
     },
     "execution_count": 129,
     "metadata": {},
     "output_type": "execute_result"
    }
   ],
   "source": [
    "scrubbed_df.describe()"
   ]
  },
  {
   "cell_type": "markdown",
   "id": "b08319e5",
   "metadata": {},
   "source": [
    "Plot class distribution for Medals variable"
   ]
  },
  {
   "cell_type": "code",
   "execution_count": 130,
   "id": "c0089f89",
   "metadata": {},
   "outputs": [
    {
     "data": {
      "text/plain": [
       "Text(0, 0.5, 'Count')"
      ]
     },
     "execution_count": 130,
     "metadata": {},
     "output_type": "execute_result"
    },
    {
     "data": {
      "image/png": "[encoded data removed]",
      "text/plain": [
       "<Figure size 432x288 with 1 Axes>"
      ]
     },
     "metadata": {
      "needs_background": "light"
     },
     "output_type": "display_data"
    }
   ],
   "source": [
    "fig, ax = plt.subplots()\n",
    "sns.countplot(x='Medals',data=scrubbed_df, ax=ax)\n",
    "ax.set_title('Olympic Medals Class Distribution')\n",
    "ax.set_xlabel('Medals Class')\n",
    "ax.set_ylabel('Count')"
   ]
  },
  {
   "cell_type": "markdown",
   "id": "e0932508",
   "metadata": {},
   "source": [
    "Plot distribution for each independent variable"
   ]
  },
  {
   "cell_type": "code",
   "execution_count": 131,
   "id": "8b8ec0c5",
   "metadata": {},
   "outputs": [
    {
     "name": "stderr",
     "output_type": "stream",
     "text": [
      "/Library/Frameworks/Python.framework/Versions/3.9/lib/python3.9/site-packages/seaborn/distributions.py:2557: FutureWarning: `distplot` is a deprecated function and will be removed in a future version. Please adapt your code to use either `displot` (a figure-level function with similar flexibility) or `histplot` (an axes-level function for histograms).\n",
      "  warnings.warn(msg, FutureWarning)\n",
      "/Library/Frameworks/Python.framework/Versions/3.9/lib/python3.9/site-packages/seaborn/distributions.py:2557: FutureWarning: `distplot` is a deprecated function and will be removed in a future version. Please adapt your code to use either `displot` (a figure-level function with similar flexibility) or `histplot` (an axes-level function for histograms).\n",
      "  warnings.warn(msg, FutureWarning)\n",
      "/Library/Frameworks/Python.framework/Versions/3.9/lib/python3.9/site-packages/seaborn/distributions.py:2557: FutureWarning: `distplot` is a deprecated function and will be removed in a future version. Please adapt your code to use either `displot` (a figure-level function with similar flexibility) or `histplot` (an axes-level function for histograms).\n",
      "  warnings.warn(msg, FutureWarning)\n",
      "/Library/Frameworks/Python.framework/Versions/3.9/lib/python3.9/site-packages/seaborn/distributions.py:2557: FutureWarning: `distplot` is a deprecated function and will be removed in a future version. Please adapt your code to use either `displot` (a figure-level function with similar flexibility) or `histplot` (an axes-level function for histograms).\n",
      "  warnings.warn(msg, FutureWarning)\n",
      "/Library/Frameworks/Python.framework/Versions/3.9/lib/python3.9/site-packages/seaborn/distributions.py:2557: FutureWarning: `distplot` is a deprecated function and will be removed in a future version. Please adapt your code to use either `displot` (a figure-level function with similar flexibility) or `histplot` (an axes-level function for histograms).\n",
      "  warnings.warn(msg, FutureWarning)\n",
      "/Library/Frameworks/Python.framework/Versions/3.9/lib/python3.9/site-packages/seaborn/distributions.py:2557: FutureWarning: `distplot` is a deprecated function and will be removed in a future version. Please adapt your code to use either `displot` (a figure-level function with similar flexibility) or `histplot` (an axes-level function for histograms).\n",
      "  warnings.warn(msg, FutureWarning)\n",
      "/Library/Frameworks/Python.framework/Versions/3.9/lib/python3.9/site-packages/seaborn/distributions.py:2557: FutureWarning: `distplot` is a deprecated function and will be removed in a future version. Please adapt your code to use either `displot` (a figure-level function with similar flexibility) or `histplot` (an axes-level function for histograms).\n",
      "  warnings.warn(msg, FutureWarning)\n",
      "/Library/Frameworks/Python.framework/Versions/3.9/lib/python3.9/site-packages/seaborn/distributions.py:2557: FutureWarning: `distplot` is a deprecated function and will be removed in a future version. Please adapt your code to use either `displot` (a figure-level function with similar flexibility) or `histplot` (an axes-level function for histograms).\n",
      "  warnings.warn(msg, FutureWarning)\n",
      "/Library/Frameworks/Python.framework/Versions/3.9/lib/python3.9/site-packages/seaborn/distributions.py:2557: FutureWarning: `distplot` is a deprecated function and will be removed in a future version. Please adapt your code to use either `displot` (a figure-level function with similar flexibility) or `histplot` (an axes-level function for histograms).\n",
      "  warnings.warn(msg, FutureWarning)\n"
     ]
    },
    {
     "data": {
      "image/png": "[encoded data removed]",
      "text/plain": [
       "<Figure size 432x288 with 1 Axes>"
      ]
     },
     "metadata": {
      "needs_background": "light"
     },
     "output_type": "display_data"
    },
    {
     "data": {
      "image/png": "[encoded data removed]",
      "text/plain": [
       "<Figure size 432x288 with 1 Axes>"
      ]
     },
     "metadata": {
      "needs_background": "light"
     },
     "output_type": "display_data"
    },
    {
     "data": {
      "image/png": "[encoded data removed]",
      "text/plain": [
       "<Figure size 432x288 with 1 Axes>"
      ]
     },
     "metadata": {
      "needs_background": "light"
     },
     "output_type": "display_data"
    },
    {
     "data": {
      "image/png": "[encoded data removed]",
      "text/plain": [
       "<Figure size 432x288 with 1 Axes>"
      ]
     },
     "metadata": {
      "needs_background": "light"
     },
     "output_type": "display_data"
    },
    {
     "data": {
      "image/png": "[encoded data removed]",
      "text/plain": [
       "<Figure size 432x288 with 1 Axes>"
      ]
     },
     "metadata": {
      "needs_background": "light"
     },
     "output_type": "display_data"
    },
    {
     "data": {
      "image/png": "[encoded data removed]",
      "text/plain": [
       "<Figure size 432x288 with 1 Axes>"
      ]
     },
     "metadata": {
      "needs_background": "light"
     },
     "output_type": "display_data"
    },
    {
     "data": {
      "image/png": "[encoded data removed]",
      "text/plain": [
       "<Figure size 432x288 with 1 Axes>"
      ]
     },
     "metadata": {
      "needs_background": "light"
     },
     "output_type": "display_data"
    },
    {
     "data": {
      "image/png": "[encoded data removed]",
      "text/plain": [
       "<Figure size 432x288 with 1 Axes>"
      ]
     },
     "metadata": {
      "needs_background": "light"
     },
     "output_type": "display_data"
    },
    {
     "data": {
      "image/png": "[encoded data removed]",
      "text/plain": [
       "<Figure size 432x288 with 1 Axes>"
      ]
     },
     "metadata": {
      "needs_background": "light"
     },
     "output_type": "display_data"
    }
   ],
   "source": [
    "features = list(scrubbed_df.columns)\n",
    "features.remove('Medals')\n",
    "for feat in features:\n",
    "    fig, ax = plt.subplots()\n",
    "    sns.distplot(scrubbed_df[feat], kde=True, bins=10, ax=ax)\n",
    "    ax.set_title(f'{feat} Feature Distribution')"
   ]
  },
  {
   "cell_type": "markdown",
   "id": "f7d6e7da",
   "metadata": {},
   "source": [
    "Calculate vif for each feature to confirm no correlated features need to be dropped"
   ]
  },
  {
   "cell_type": "code",
   "execution_count": 132,
   "id": "1fab7fd0",
   "metadata": {},
   "outputs": [
    {
     "data": {
      "text/html": [
       "<div>\n",
       "<style scoped>\n",
       "    .dataframe tbody tr th:only-of-type {\n",
       "        vertical-align: middle;\n",
       "    }\n",
       "\n",
       "    .dataframe tbody tr th {\n",
       "        vertical-align: top;\n",
       "    }\n",
       "\n",
       "    .dataframe thead th {\n",
       "        text-align: right;\n",
       "    }\n",
       "</style>\n",
       "<table border=\"1\" class=\"dataframe\">\n",
       "  <thead>\n",
       "    <tr style=\"text-align: right;\">\n",
       "      <th></th>\n",
       "      <th>Column</th>\n",
       "      <th>VIF</th>\n",
       "    </tr>\n",
       "  </thead>\n",
       "  <tbody>\n",
       "    <tr>\n",
       "      <th>0</th>\n",
       "      <td>const</td>\n",
       "      <td>111.857674</td>\n",
       "    </tr>\n",
       "    <tr>\n",
       "      <th>2</th>\n",
       "      <td>GDP Per Capita</td>\n",
       "      <td>3.304209</td>\n",
       "    </tr>\n",
       "    <tr>\n",
       "      <th>5</th>\n",
       "      <td>Migrant Population Proportion</td>\n",
       "      <td>2.607977</td>\n",
       "    </tr>\n",
       "    <tr>\n",
       "      <th>8</th>\n",
       "      <td>Urban Population Proportion</td>\n",
       "      <td>1.786923</td>\n",
       "    </tr>\n",
       "    <tr>\n",
       "      <th>9</th>\n",
       "      <td>Ages 20-34 Population Proportion</td>\n",
       "      <td>1.690299</td>\n",
       "    </tr>\n",
       "    <tr>\n",
       "      <th>6</th>\n",
       "      <td>Air Pollution Exposure</td>\n",
       "      <td>1.597836</td>\n",
       "    </tr>\n",
       "    <tr>\n",
       "      <th>1</th>\n",
       "      <td>Health Expenditure (% of GDP)</td>\n",
       "      <td>1.557137</td>\n",
       "    </tr>\n",
       "    <tr>\n",
       "      <th>4</th>\n",
       "      <td>Education Expenditure (% of GDP)</td>\n",
       "      <td>1.372498</td>\n",
       "    </tr>\n",
       "    <tr>\n",
       "      <th>3</th>\n",
       "      <td>Gini Index</td>\n",
       "      <td>1.337567</td>\n",
       "    </tr>\n",
       "    <tr>\n",
       "      <th>7</th>\n",
       "      <td>Population</td>\n",
       "      <td>1.164901</td>\n",
       "    </tr>\n",
       "  </tbody>\n",
       "</table>\n",
       "</div>"
      ],
      "text/plain": [
       "                             Column         VIF\n",
       "0                             const  111.857674\n",
       "2                    GDP Per Capita    3.304209\n",
       "5     Migrant Population Proportion    2.607977\n",
       "8       Urban Population Proportion    1.786923\n",
       "9  Ages 20-34 Population Proportion    1.690299\n",
       "6            Air Pollution Exposure    1.597836\n",
       "1     Health Expenditure (% of GDP)    1.557137\n",
       "4  Education Expenditure (% of GDP)    1.372498\n",
       "3                        Gini Index    1.337567\n",
       "7                        Population    1.164901"
      ]
     },
     "execution_count": 132,
     "metadata": {},
     "output_type": "execute_result"
    }
   ],
   "source": [
    "vif_df = add_constant(scrubbed_df.drop(columns='Medals'))\n",
    "vif_output = []\n",
    "for num in range(0, len(vif_df.columns)):\n",
    "    vif_output.append([vif_df.columns[num], variance_inflation_factor(vif_df.values, num)])\n",
    "vif_output_df = pd.DataFrame(vif_output, columns=['Column', 'VIF'])\n",
    "vif_output_df.sort_values(by='VIF', ascending=False, inplace=True)\n",
    "vif_output_df"
   ]
  },
  {
   "cell_type": "markdown",
   "id": "b9088bad",
   "metadata": {},
   "source": [
    "# Model Data"
   ]
  },
  {
   "cell_type": "markdown",
   "id": "571e6961",
   "metadata": {},
   "source": [
    "Create x and y variables"
   ]
  },
  {
   "cell_type": "code",
   "execution_count": 133,
   "id": "16f45ae1",
   "metadata": {},
   "outputs": [],
   "source": [
    "x = scrubbed_df.drop(columns='Medals')\n",
    "y = scrubbed_df['Medals']"
   ]
  },
  {
   "cell_type": "markdown",
   "id": "0254800a",
   "metadata": {},
   "source": [
    "Perform train test split on x and y variables"
   ]
  },
  {
   "cell_type": "code",
   "execution_count": 134,
   "id": "e2171743",
   "metadata": {},
   "outputs": [],
   "source": [
    "x_train, x_test, y_train, y_test = train_test_split(x, y, random_state=15, test_size=.3)"
   ]
  },
  {
   "cell_type": "markdown",
   "id": "e4e5f983",
   "metadata": {},
   "source": [
    "Standard scale data"
   ]
  },
  {
   "cell_type": "code",
   "execution_count": 135,
   "id": "c61f955e",
   "metadata": {},
   "outputs": [],
   "source": [
    "ss = StandardScaler()\n",
    "ss.fit(x_train)\n",
    "x_train = pd.DataFrame(ss.transform(x_train), columns=x_train.columns)\n",
    "x_test = pd.DataFrame(ss.transform(x_test), columns=x_test.columns)"
   ]
  },
  {
   "cell_type": "markdown",
   "id": "06105c3a",
   "metadata": {},
   "source": [
    "Fit and evaluate dummy classifier model"
   ]
  },
  {
   "cell_type": "code",
   "execution_count": 136,
   "id": "d15dd234",
   "metadata": {},
   "outputs": [
    {
     "name": "stdout",
     "output_type": "stream",
     "text": [
      "Dummy Classifier\n",
      "Train f1 score 0.5413533834586466\n",
      "Train Accuracy score 0.5481481481481482\n",
      "Test f1 score 0.4838709677419355\n",
      "Test Accuracy score 0.4482758620689655\n"
     ]
    }
   ],
   "source": [
    "dc = DummyClassifier(strategy='stratified', random_state=37)\n",
    "dc.fit(x_train, y_train)\n",
    "y_train_pred_dc = dc.predict(x_train)\n",
    "y_test_pred_dc = dc.predict(x_test)\n",
    "print('Dummy Classifier')\n",
    "print('Train f1 score', f1_score(y_train, y_train_pred_dc))\n",
    "print('Train Accuracy score', accuracy_score(y_train, y_train_pred_dc))\n",
    "print('Test f1 score', f1_score(y_test, y_test_pred_dc))\n",
    "print('Test Accuracy score', accuracy_score(y_test, y_test_pred_dc))"
   ]
  },
  {
   "cell_type": "markdown",
   "id": "feddd80f",
   "metadata": {},
   "source": [
    "Gridsearch logistic regression model"
   ]
  },
  {
   "cell_type": "code",
   "execution_count": 137,
   "id": "a17c88a8",
   "metadata": {},
   "outputs": [
    {
     "name": "stdout",
     "output_type": "stream",
     "text": [
      "Fitting 5 folds for each of 41 candidates, totalling 205 fits\n",
      "Logistic Regression Gridsearch\n",
      "Best score: 0.6798029556650247\n",
      "Best params: {'C': 0.31}\n"
     ]
    }
   ],
   "source": [
    "gs_lr_dict = {'C': [x/100 for x in range(10,51)]}\n",
    "gs_lr_model = LogisticRegression()\n",
    "gs_lr = GridSearchCV(estimator=gs_lr_model, param_grid=gs_lr_dict, scoring='f1', n_jobs=-1, cv=5, verbose=1)\n",
    "gs_lr.fit(x_train, y_train)\n",
    "print('Logistic Regression Gridsearch')\n",
    "print('Best score:', gs_lr.best_score_)\n",
    "print('Best params:', gs_lr.best_params_)"
   ]
  },
  {
   "cell_type": "markdown",
   "id": "95400e40",
   "metadata": {},
   "source": [
    "Fit and evaluate top performing logistic regression model"
   ]
  },
  {
   "cell_type": "code",
   "execution_count": 138,
   "id": "52a18181",
   "metadata": {},
   "outputs": [
    {
     "name": "stdout",
     "output_type": "stream",
     "text": [
      "Logistic Regression\n",
      "Train f1 score 0.7368421052631577\n",
      "Train Accuracy score 0.7777777777777778\n",
      "Test f1 score 0.73015873015873\n",
      "Test Accuracy score 0.7068965517241379\n"
     ]
    }
   ],
   "source": [
    "lr = LogisticRegression(C=.31)\n",
    "lr.fit(x_train, y_train)\n",
    "y_train_pred_lr = lr.predict(x_train)\n",
    "y_test_pred_lr = lr.predict(x_test)\n",
    "print('Logistic Regression')\n",
    "print('Train f1 score', f1_score(y_train, y_train_pred_lr))\n",
    "print('Train Accuracy score', accuracy_score(y_train, y_train_pred_lr))\n",
    "print('Test f1 score', f1_score(y_test, y_test_pred_lr))\n",
    "print('Test Accuracy score', accuracy_score(y_test, y_test_pred_lr))"
   ]
  },
  {
   "cell_type": "markdown",
   "id": "2876f86f",
   "metadata": {},
   "source": [
    "Plot logistic regression confusion matrix"
   ]
  },
  {
   "cell_type": "code",
   "execution_count": 139,
   "id": "eea69456",
   "metadata": {},
   "outputs": [
    {
     "data": {
      "text/plain": [
       "[Text(0, 0.5, 'Not Won'), Text(0, 1.5, 'Won')]"
      ]
     },
     "execution_count": 139,
     "metadata": {},
     "output_type": "execute_result"
    },
    {
     "data": {
      "image/png": "[encoded data removed]",
      "text/plain": [
       "<Figure size 360x360 with 2 Axes>"
      ]
     },
     "metadata": {
      "needs_background": "light"
     },
     "output_type": "display_data"
    }
   ],
   "source": [
    "lr_cm = confusion_matrix(y_test, y_test_pred_lr)\n",
    "fig, ax = plt.subplots(figsize=(5,5))\n",
    "lr_matrix = sns.heatmap(lr_cm/np.sum(lr_cm), annot=True, ax = ax, cmap = 'Blues', fmt = '.1%')\n",
    "lr_matrix.set_title('Logistic Regression Confusion Matrix')\n",
    "lr_matrix.set_xlabel('Predicted')\n",
    "lr_matrix.set_xticklabels(['Not Won','Won'])\n",
    "lr_matrix.set_ylabel('Actual')\n",
    "lr_matrix.set_yticklabels(['Not Won','Won'])"
   ]
  },
  {
   "cell_type": "markdown",
   "id": "49aa3c07",
   "metadata": {},
   "source": [
    "Gridsearch adaboost model"
   ]
  },
  {
   "cell_type": "code",
   "execution_count": 140,
   "id": "1abf0d93",
   "metadata": {},
   "outputs": [
    {
     "name": "stdout",
     "output_type": "stream",
     "text": [
      "Fitting 5 folds for each of 51 candidates, totalling 255 fits\n",
      "Adaboost Gridsearch\n",
      "Best score: 0.8055406911928651\n",
      "Best params: {'learning_rate': 1.2}\n"
     ]
    }
   ],
   "source": [
    "gs_ab_dict = {'learning_rate': [x/100 for x in range(100, 151)]}\n",
    "gs_ab_model = AdaBoostClassifier()\n",
    "gs_ab = GridSearchCV(estimator=gs_ab_model, param_grid=gs_ab_dict, scoring='f1', n_jobs=-1, cv=5, verbose=1)\n",
    "gs_ab.fit(x_train, y_train)\n",
    "print('Adaboost Gridsearch')\n",
    "print('Best score:', gs_ab.best_score_)\n",
    "print('Best params:', gs_ab.best_params_)"
   ]
  },
  {
   "cell_type": "markdown",
   "id": "1b033099",
   "metadata": {},
   "source": [
    "Fite and evaluate top performing adaboost model"
   ]
  },
  {
   "cell_type": "code",
   "execution_count": 141,
   "id": "66104a60",
   "metadata": {},
   "outputs": [
    {
     "name": "stdout",
     "output_type": "stream",
     "text": [
      "Adaboost Classifier\n",
      "Train f1 score 1.0\n",
      "Train Accuracy score 1.0\n",
      "Test f1 score 0.6885245901639345\n",
      "Test Accuracy score 0.6724137931034483\n"
     ]
    }
   ],
   "source": [
    "ab = AdaBoostClassifier(learning_rate=1.2)\n",
    "ab.fit(x_train, y_train)\n",
    "y_train_pred_ab = ab.predict(x_train)\n",
    "y_test_pred_ab = ab.predict(x_test)\n",
    "print('Adaboost Classifier')\n",
    "print('Train f1 score', f1_score(y_train, y_train_pred_ab))\n",
    "print('Train Accuracy score', accuracy_score(y_train, y_train_pred_ab))\n",
    "print('Test f1 score', f1_score(y_test, y_test_pred_ab))\n",
    "print('Test Accuracy score', accuracy_score(y_test, y_test_pred_ab))"
   ]
  },
  {
   "cell_type": "markdown",
   "id": "0406e87c",
   "metadata": {},
   "source": [
    "Plot adaboost confusion matrix"
   ]
  },
  {
   "cell_type": "code",
   "execution_count": 142,
   "id": "7ac045ca",
   "metadata": {},
   "outputs": [
    {
     "data": {
      "text/plain": [
       "[Text(0, 0.5, 'Not Won'), Text(0, 1.5, 'Won')]"
      ]
     },
     "execution_count": 142,
     "metadata": {},
     "output_type": "execute_result"
    },
    {
     "data": {
      "image/png": "[encoded data removed]",
      "text/plain": [
       "<Figure size 360x360 with 2 Axes>"
      ]
     },
     "metadata": {
      "needs_background": "light"
     },
     "output_type": "display_data"
    }
   ],
   "source": [
    "ab_cm = confusion_matrix(y_test, y_test_pred_ab)\n",
    "fig, ax = plt.subplots(figsize=(5,5))\n",
    "ab_matrix = sns.heatmap(ab_cm/np.sum(ab_cm), annot=True, ax = ax, cmap = 'Blues', fmt = '.1%')\n",
    "ab_matrix.set_title('Adaboost Confusion Matrix')\n",
    "ab_matrix.set_xlabel('Predicted')\n",
    "ab_matrix.set_xticklabels(['Not Won','Won'])\n",
    "ab_matrix.set_ylabel('Actual')\n",
    "ab_matrix.set_yticklabels(['Not Won','Won'])"
   ]
  },
  {
   "cell_type": "markdown",
   "id": "cc35441b",
   "metadata": {},
   "source": [
    "Gridsearch random forest classifier"
   ]
  },
  {
   "cell_type": "code",
   "execution_count": 143,
   "id": "d10897c6",
   "metadata": {},
   "outputs": [
    {
     "name": "stdout",
     "output_type": "stream",
     "text": [
      "Fitting 5 folds for each of 250 candidates, totalling 1250 fits\n",
      "Random Forest\n",
      "Best score: 0.7362666319188058\n",
      "Best params: {'criterion': 'entropy', 'max_features': 0.01, 'max_samples': 0.74, 'min_samples_split': 5}\n"
     ]
    }
   ],
   "source": [
    "gs_rf_dict = {'max_features': [.01, .02, .03, .04, .05],\n",
    "             'max_samples': [.73, .735, .74, .745, .75],\n",
    "             'min_samples_split': [3, 4, 5, 6, 7],\n",
    "             'criterion': ['gini', 'entropy']}\n",
    "gs_rf_model = RandomForestClassifier(random_state=27)\n",
    "gs_rf = GridSearchCV(estimator=gs_rf_model, param_grid=gs_rf_dict, scoring='f1', n_jobs=-1, cv=5, verbose=1)\n",
    "gs_rf.fit(x_train, y_train)\n",
    "print('Random Forest')\n",
    "print('Best score:', gs_rf.best_score_)\n",
    "print('Best params:', gs_rf.best_params_)"
   ]
  },
  {
   "cell_type": "markdown",
   "id": "11a6eafe",
   "metadata": {},
   "source": [
    "Fit and evaluate top performing random forest classifier"
   ]
  },
  {
   "cell_type": "code",
   "execution_count": 144,
   "id": "b246bc1a",
   "metadata": {},
   "outputs": [
    {
     "name": "stdout",
     "output_type": "stream",
     "text": [
      "Random Forest Classifier\n",
      "Train f1 score 0.9838709677419354\n",
      "Train Accuracy score 0.9851851851851852\n",
      "Test f1 score 0.7636363636363638\n",
      "Test Accuracy score 0.7758620689655172\n"
     ]
    }
   ],
   "source": [
    "rf = RandomForestClassifier(criterion='entropy', max_features=0.005, max_samples=0.74, min_samples_split=5,\n",
    "                           random_state=27)\n",
    "rf.fit(x_train, y_train)\n",
    "y_train_pred_rf = rf.predict(x_train)\n",
    "y_test_pred_rf = rf.predict(x_test)\n",
    "print('Random Forest Classifier')\n",
    "print('Train f1 score', f1_score(y_train, y_train_pred_rf))\n",
    "print('Train Accuracy score', accuracy_score(y_train, y_train_pred_rf))\n",
    "print('Test f1 score', f1_score(y_test, y_test_pred_rf))\n",
    "print('Test Accuracy score', accuracy_score(y_test, y_test_pred_rf))"
   ]
  },
  {
   "cell_type": "markdown",
   "id": "4771153a",
   "metadata": {},
   "source": [
    "Plot Random Forest random forest confusion matrix"
   ]
  },
  {
   "cell_type": "code",
   "execution_count": 145,
   "id": "1e33ad9b",
   "metadata": {},
   "outputs": [
    {
     "data": {
      "text/plain": [
       "[Text(0, 0.5, 'Not Won'), Text(0, 1.5, 'Won')]"
      ]
     },
     "execution_count": 145,
     "metadata": {},
     "output_type": "execute_result"
    },
    {
     "data": {
      "image/png": "[encoded data removed]",
      "text/plain": [
       "<Figure size 360x360 with 2 Axes>"
      ]
     },
     "metadata": {
      "needs_background": "light"
     },
     "output_type": "display_data"
    }
   ],
   "source": [
    "rf_cm = confusion_matrix(y_test, y_test_pred_rf)\n",
    "fig, ax = plt.subplots(figsize=(5,5))\n",
    "rf_matrix = sns.heatmap(rf_cm/np.sum(rf_cm), annot=True, ax = ax, cmap = 'Blues', fmt = '.1%')\n",
    "rf_matrix.set_title('Random Forest Confusion Matrix')\n",
    "rf_matrix.set_xlabel('Predicted')\n",
    "rf_matrix.set_xticklabels(['Not Won','Won'])\n",
    "rf_matrix.set_ylabel('Actual')\n",
    "rf_matrix.set_yticklabels(['Not Won','Won'])"
   ]
  },
  {
   "cell_type": "markdown",
   "id": "53db79dd",
   "metadata": {},
   "source": [
    "Build and evaluate voting classifier"
   ]
  },
  {
   "cell_type": "code",
   "execution_count": 146,
   "id": "570be5e3",
   "metadata": {},
   "outputs": [
    {
     "name": "stdout",
     "output_type": "stream",
     "text": [
      "Voting Classifier\n",
      "Train f1 score 0.9838709677419354\n",
      "Train Accuracy score 0.9851851851851852\n",
      "Test f1 score 0.7857142857142857\n",
      "Test Accuracy score 0.7931034482758621\n"
     ]
    }
   ],
   "source": [
    "vc = VotingClassifier(estimators=[('rf', rf), ('lr', lr)], voting='soft', weights=[.9, .1])\n",
    "vc.fit(x_train, y_train)\n",
    "y_train_pred_vc = vc.predict(x_train)\n",
    "y_test_pred_vc = vc.predict(x_test)\n",
    "print('Voting Classifier')\n",
    "print('Train f1 score', f1_score(y_train, y_train_pred_vc))\n",
    "print('Train Accuracy score', accuracy_score(y_train, y_train_pred_vc))\n",
    "print('Test f1 score', f1_score(y_test, y_test_pred_vc))\n",
    "print('Test Accuracy score', accuracy_score(y_test, y_test_pred_vc))"
   ]
  },
  {
   "cell_type": "markdown",
   "id": "444d7803",
   "metadata": {},
   "source": [
    "# Analyze Results"
   ]
  },
  {
   "cell_type": "markdown",
   "id": "f42e8ffe",
   "metadata": {},
   "source": [
    "Create df with logistic regression feature coefficients"
   ]
  },
  {
   "cell_type": "code",
   "execution_count": 147,
   "id": "2c1c9bd0",
   "metadata": {},
   "outputs": [
    {
     "data": {
      "text/html": [
       "<div>\n",
       "<style scoped>\n",
       "    .dataframe tbody tr th:only-of-type {\n",
       "        vertical-align: middle;\n",
       "    }\n",
       "\n",
       "    .dataframe tbody tr th {\n",
       "        vertical-align: top;\n",
       "    }\n",
       "\n",
       "    .dataframe thead th {\n",
       "        text-align: right;\n",
       "    }\n",
       "</style>\n",
       "<table border=\"1\" class=\"dataframe\">\n",
       "  <thead>\n",
       "    <tr style=\"text-align: right;\">\n",
       "      <th></th>\n",
       "      <th>Feature</th>\n",
       "      <th>Coefficient</th>\n",
       "    </tr>\n",
       "  </thead>\n",
       "  <tbody>\n",
       "    <tr>\n",
       "      <th>0</th>\n",
       "      <td>Population</td>\n",
       "      <td>0.81</td>\n",
       "    </tr>\n",
       "    <tr>\n",
       "      <th>1</th>\n",
       "      <td>Urban Population Proportion</td>\n",
       "      <td>0.70</td>\n",
       "    </tr>\n",
       "    <tr>\n",
       "      <th>2</th>\n",
       "      <td>Education Expenditure (% of GDP)</td>\n",
       "      <td>0.48</td>\n",
       "    </tr>\n",
       "    <tr>\n",
       "      <th>3</th>\n",
       "      <td>GDP Per Capita</td>\n",
       "      <td>0.46</td>\n",
       "    </tr>\n",
       "    <tr>\n",
       "      <th>4</th>\n",
       "      <td>Air Pollution Exposure</td>\n",
       "      <td>-0.03</td>\n",
       "    </tr>\n",
       "    <tr>\n",
       "      <th>5</th>\n",
       "      <td>Health Expenditure (% of GDP)</td>\n",
       "      <td>-0.10</td>\n",
       "    </tr>\n",
       "    <tr>\n",
       "      <th>6</th>\n",
       "      <td>Gini Index</td>\n",
       "      <td>-0.10</td>\n",
       "    </tr>\n",
       "    <tr>\n",
       "      <th>7</th>\n",
       "      <td>Migrant Population Proportion</td>\n",
       "      <td>-0.33</td>\n",
       "    </tr>\n",
       "    <tr>\n",
       "      <th>8</th>\n",
       "      <td>Ages 20-34 Population Proportion</td>\n",
       "      <td>-0.43</td>\n",
       "    </tr>\n",
       "  </tbody>\n",
       "</table>\n",
       "</div>"
      ],
      "text/plain": [
       "                            Feature  Coefficient\n",
       "0                        Population         0.81\n",
       "1       Urban Population Proportion         0.70\n",
       "2  Education Expenditure (% of GDP)         0.48\n",
       "3                    GDP Per Capita         0.46\n",
       "4            Air Pollution Exposure        -0.03\n",
       "5     Health Expenditure (% of GDP)        -0.10\n",
       "6                        Gini Index        -0.10\n",
       "7     Migrant Population Proportion        -0.33\n",
       "8  Ages 20-34 Population Proportion        -0.43"
      ]
     },
     "execution_count": 147,
     "metadata": {},
     "output_type": "execute_result"
    }
   ],
   "source": [
    "lr_coefficients_df = pd.DataFrame(lr.coef_, columns=x_train.columns).T.round(2)\n",
    "lr_coefficients_df.sort_values(by=0, inplace=True, ascending=False)\n",
    "lr_coefficients_df.reset_index(inplace=True)\n",
    "lr_coefficients_df.columns = ['Feature', 'Coefficient']\n",
    "lr_coefficients_df"
   ]
  },
  {
   "cell_type": "markdown",
   "id": "8a4f2d94",
   "metadata": {},
   "source": [
    "Plot logistic regression feature coefficients"
   ]
  },
  {
   "cell_type": "code",
   "execution_count": 148,
   "id": "dcf8dbef",
   "metadata": {},
   "outputs": [
    {
     "data": {
      "text/plain": [
       "Text(0.5, 1.0, 'Olympic Medal Classification Logistic Regression Feature Coefficients')"
      ]
     },
     "execution_count": 148,
     "metadata": {},
     "output_type": "execute_result"
    },
    {
     "data": {
      "image/png": "[encoded data removed]",
      "text/plain": [
       "<Figure size 432x288 with 1 Axes>"
      ]
     },
     "metadata": {
      "needs_background": "light"
     },
     "output_type": "display_data"
    }
   ],
   "source": [
    "fig, ax = plt.subplots()\n",
    "sns.barplot(x='Feature', y='Coefficient', data=lr_coefficients_df, ax=ax)\n",
    "ax.set_xticklabels(lr_coefficients_df['Feature'], rotation=90)\n",
    "ax.set_title('Olympic Medal Classification Logistic Regression Feature Coefficients')"
   ]
  },
  {
   "cell_type": "markdown",
   "id": "ab53e990",
   "metadata": {},
   "source": [
    "Calculate random forest feature importances"
   ]
  },
  {
   "cell_type": "code",
   "execution_count": 149,
   "id": "9bae4bac",
   "metadata": {},
   "outputs": [
    {
     "data": {
      "text/html": [
       "<div>\n",
       "<style scoped>\n",
       "    .dataframe tbody tr th:only-of-type {\n",
       "        vertical-align: middle;\n",
       "    }\n",
       "\n",
       "    .dataframe tbody tr th {\n",
       "        vertical-align: top;\n",
       "    }\n",
       "\n",
       "    .dataframe thead th {\n",
       "        text-align: right;\n",
       "    }\n",
       "</style>\n",
       "<table border=\"1\" class=\"dataframe\">\n",
       "  <thead>\n",
       "    <tr style=\"text-align: right;\">\n",
       "      <th></th>\n",
       "      <th>Importance</th>\n",
       "      <th>Feature</th>\n",
       "    </tr>\n",
       "  </thead>\n",
       "  <tbody>\n",
       "    <tr>\n",
       "      <th>6</th>\n",
       "      <td>0.15</td>\n",
       "      <td>Population</td>\n",
       "    </tr>\n",
       "    <tr>\n",
       "      <th>1</th>\n",
       "      <td>0.13</td>\n",
       "      <td>GDP Per Capita</td>\n",
       "    </tr>\n",
       "    <tr>\n",
       "      <th>7</th>\n",
       "      <td>0.13</td>\n",
       "      <td>Urban Population Proportion</td>\n",
       "    </tr>\n",
       "    <tr>\n",
       "      <th>8</th>\n",
       "      <td>0.12</td>\n",
       "      <td>Ages 20-34 Population Proportion</td>\n",
       "    </tr>\n",
       "    <tr>\n",
       "      <th>4</th>\n",
       "      <td>0.11</td>\n",
       "      <td>Migrant Population Proportion</td>\n",
       "    </tr>\n",
       "    <tr>\n",
       "      <th>3</th>\n",
       "      <td>0.10</td>\n",
       "      <td>Education Expenditure (% of GDP)</td>\n",
       "    </tr>\n",
       "    <tr>\n",
       "      <th>2</th>\n",
       "      <td>0.09</td>\n",
       "      <td>Gini Index</td>\n",
       "    </tr>\n",
       "    <tr>\n",
       "      <th>5</th>\n",
       "      <td>0.09</td>\n",
       "      <td>Air Pollution Exposure</td>\n",
       "    </tr>\n",
       "    <tr>\n",
       "      <th>0</th>\n",
       "      <td>0.08</td>\n",
       "      <td>Health Expenditure (% of GDP)</td>\n",
       "    </tr>\n",
       "  </tbody>\n",
       "</table>\n",
       "</div>"
      ],
      "text/plain": [
       "   Importance                           Feature\n",
       "6        0.15                        Population\n",
       "1        0.13                    GDP Per Capita\n",
       "7        0.13       Urban Population Proportion\n",
       "8        0.12  Ages 20-34 Population Proportion\n",
       "4        0.11     Migrant Population Proportion\n",
       "3        0.10  Education Expenditure (% of GDP)\n",
       "2        0.09                        Gini Index\n",
       "5        0.09            Air Pollution Exposure\n",
       "0        0.08     Health Expenditure (% of GDP)"
      ]
     },
     "execution_count": 149,
     "metadata": {},
     "output_type": "execute_result"
    }
   ],
   "source": [
    "rf_importances_df = pd.DataFrame(rf.feature_importances_, columns=['Importance']).round(2)\n",
    "rf_importances_df['Feature'] = x_train.columns\n",
    "rf_importances_df.sort_values(by='Importance', inplace=True, ascending=False)\n",
    "rf_importances_df"
   ]
  },
  {
   "cell_type": "markdown",
   "id": "5051bd3d",
   "metadata": {},
   "source": [
    "Plot random forest feature importances"
   ]
  },
  {
   "cell_type": "code",
   "execution_count": 150,
   "id": "64a968de",
   "metadata": {},
   "outputs": [
    {
     "data": {
      "text/plain": [
       "Text(0.5, 1.0, 'Olympic Medal Classification Random Forest Feature Importances')"
      ]
     },
     "execution_count": 150,
     "metadata": {},
     "output_type": "execute_result"
    },
    {
     "data": {
      "image/png": "[encoded data removed]",
      "text/plain": [
       "<Figure size 432x288 with 1 Axes>"
      ]
     },
     "metadata": {
      "needs_background": "light"
     },
     "output_type": "display_data"
    }
   ],
   "source": [
    "fig, ax = plt.subplots()\n",
    "sns.barplot(x='Feature', y='Importance', data=rf_importances_df, estimator=np.median, ax=ax)\n",
    "ax.set_xticklabels(lr_coefficients_df['Feature'], rotation=90)\n",
    "ax.set_title('Olympic Medal Classification Random Forest Feature Importances')"
   ]
  },
  {
   "cell_type": "code",
   "execution_count": null,
   "id": "e9dc215e",
   "metadata": {},
   "outputs": [],
   "source": []
  }
 ],
 "metadata": {
  "kernelspec": {
   "display_name": "Python 3",
   "language": "python",
   "name": "python3"
  },
  "language_info": {
   "codemirror_mode": {
    "name": "ipython",
    "version": 3
   },
   "file_extension": ".py",
   "mimetype": "text/x-python",
   "name": "python",
   "nbconvert_exporter": "python",
   "pygments_lexer": "ipython3",
   "version": "3.9.5"
  }
 },
 "nbformat": 4,
 "nbformat_minor": 5
}
